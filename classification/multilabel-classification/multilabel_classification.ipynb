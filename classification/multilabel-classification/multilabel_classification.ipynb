{
  "nbformat": 4,
  "nbformat_minor": 0,
  "metadata": {
    "colab": {
      "name": "multilabel_classification.ipynb",
      "provenance": [],
      "collapsed_sections": [],
      "authorship_tag": "ABX9TyP2Py85GA8PEBp3R6gm8BcC"
    },
    "kernelspec": {
      "name": "python3",
      "display_name": "Python 3"
    },
    "language_info": {
      "name": "python"
    }
  },
  "cells": [
    {
      "cell_type": "markdown",
      "source": [
        "# Classificação Multilabel de textos: múltiplos contextos com NLP\n",
        "***\n",
        "Este projeto é baseado no curso <strong>Alura - Classificação Multilabel de textos: múltiplos contextos com NLP</strong>. O objetivo é criar uma classificação multilabel de textos e para isso precisamos relembrar a clasifficação binária, classificação multiclasses e classificação multilabel. Criaremos um modelo de machine learning capaz de classificar as tags do stack overflow.\n",
        "\n",
        "O que foi aprendido?\n",
        "- Importação dos dados\n",
        "- Diferenças binaria, multiclass, multilabel\n",
        "- Strings vs Classificação\n",
        "- Treino e teste, zip das variáveis\n",
        "- Vetorização dos textos\n",
        "- Acurácia vs Hamming Loss\n",
        "- BR, Chain, MLkNN\n",
        "- Análise dos resultados\n",
        "\n",
        "Palavras-chave: Modelo de Relevância Binária, Hamming Loss, ClassifierChain, Scikit-Multilearn, MLkNN, train_test_split, TF-IDF, OneVsRestClassifier, Exact Match."
      ],
      "metadata": {
        "id": "gJFQMI0BJI0j"
      }
    },
    {
      "cell_type": "markdown",
      "source": [
        "# Explorando o problema"
      ],
      "metadata": {
        "id": "4VFL1I5cOUuh"
      }
    },
    {
      "cell_type": "code",
      "execution_count": null,
      "metadata": {
        "id": "YgC1dBBC80Uo"
      },
      "outputs": [],
      "source": [
        "uri = 'https://raw.githubusercontent.com/alura-cursos/alura_classificacao_multilabel/master/dataset/stackoverflow_perguntas.csv'"
      ]
    },
    {
      "cell_type": "markdown",
      "source": [
        "## 1. Importe os dados e exiba as 5 primeiras linhas"
      ],
      "metadata": {
        "id": "kuGji7U4GN3x"
      }
    },
    {
      "cell_type": "code",
      "source": [
        "import pandas as pd\n",
        "\n",
        "perguntas = pd.read_csv(uri)\n",
        "perguntas.head()"
      ],
      "metadata": {
        "colab": {
          "base_uri": "https://localhost:8080/",
          "height": 206
        },
        "id": "rmtENqEwGRQX",
        "outputId": "757e5964-f3f8-4246-a407-b8764d5fc555"
      },
      "execution_count": null,
      "outputs": [
        {
          "output_type": "execute_result",
          "data": {
            "text/plain": [
              "                                           Perguntas           Tags\n",
              "0  Possuo um projeto Node.js porém preciso criar ...        node.js\n",
              "1  Gostaria de fazer testes unitários no Node.js,...        node.js\n",
              "2  Como inverter a ordem com que o jQuery itera u...         jquery\n",
              "3  Eu tenho uma página onde pretendo utilizar um ...           html\n",
              "4  Como exibir os dados retornados do FireStore e...  html angular "
            ],
            "text/html": [
              "\n",
              "  <div id=\"df-1341a95b-a72f-4f9c-8320-ca61dde06473\">\n",
              "    <div class=\"colab-df-container\">\n",
              "      <div>\n",
              "<style scoped>\n",
              "    .dataframe tbody tr th:only-of-type {\n",
              "        vertical-align: middle;\n",
              "    }\n",
              "\n",
              "    .dataframe tbody tr th {\n",
              "        vertical-align: top;\n",
              "    }\n",
              "\n",
              "    .dataframe thead th {\n",
              "        text-align: right;\n",
              "    }\n",
              "</style>\n",
              "<table border=\"1\" class=\"dataframe\">\n",
              "  <thead>\n",
              "    <tr style=\"text-align: right;\">\n",
              "      <th></th>\n",
              "      <th>Perguntas</th>\n",
              "      <th>Tags</th>\n",
              "    </tr>\n",
              "  </thead>\n",
              "  <tbody>\n",
              "    <tr>\n",
              "      <th>0</th>\n",
              "      <td>Possuo um projeto Node.js porém preciso criar ...</td>\n",
              "      <td>node.js</td>\n",
              "    </tr>\n",
              "    <tr>\n",
              "      <th>1</th>\n",
              "      <td>Gostaria de fazer testes unitários no Node.js,...</td>\n",
              "      <td>node.js</td>\n",
              "    </tr>\n",
              "    <tr>\n",
              "      <th>2</th>\n",
              "      <td>Como inverter a ordem com que o jQuery itera u...</td>\n",
              "      <td>jquery</td>\n",
              "    </tr>\n",
              "    <tr>\n",
              "      <th>3</th>\n",
              "      <td>Eu tenho uma página onde pretendo utilizar um ...</td>\n",
              "      <td>html</td>\n",
              "    </tr>\n",
              "    <tr>\n",
              "      <th>4</th>\n",
              "      <td>Como exibir os dados retornados do FireStore e...</td>\n",
              "      <td>html angular</td>\n",
              "    </tr>\n",
              "  </tbody>\n",
              "</table>\n",
              "</div>\n",
              "      <button class=\"colab-df-convert\" onclick=\"convertToInteractive('df-1341a95b-a72f-4f9c-8320-ca61dde06473')\"\n",
              "              title=\"Convert this dataframe to an interactive table.\"\n",
              "              style=\"display:none;\">\n",
              "        \n",
              "  <svg xmlns=\"http://www.w3.org/2000/svg\" height=\"24px\"viewBox=\"0 0 24 24\"\n",
              "       width=\"24px\">\n",
              "    <path d=\"M0 0h24v24H0V0z\" fill=\"none\"/>\n",
              "    <path d=\"M18.56 5.44l.94 2.06.94-2.06 2.06-.94-2.06-.94-.94-2.06-.94 2.06-2.06.94zm-11 1L8.5 8.5l.94-2.06 2.06-.94-2.06-.94L8.5 2.5l-.94 2.06-2.06.94zm10 10l.94 2.06.94-2.06 2.06-.94-2.06-.94-.94-2.06-.94 2.06-2.06.94z\"/><path d=\"M17.41 7.96l-1.37-1.37c-.4-.4-.92-.59-1.43-.59-.52 0-1.04.2-1.43.59L10.3 9.45l-7.72 7.72c-.78.78-.78 2.05 0 2.83L4 21.41c.39.39.9.59 1.41.59.51 0 1.02-.2 1.41-.59l7.78-7.78 2.81-2.81c.8-.78.8-2.07 0-2.86zM5.41 20L4 18.59l7.72-7.72 1.47 1.35L5.41 20z\"/>\n",
              "  </svg>\n",
              "      </button>\n",
              "      \n",
              "  <style>\n",
              "    .colab-df-container {\n",
              "      display:flex;\n",
              "      flex-wrap:wrap;\n",
              "      gap: 12px;\n",
              "    }\n",
              "\n",
              "    .colab-df-convert {\n",
              "      background-color: #E8F0FE;\n",
              "      border: none;\n",
              "      border-radius: 50%;\n",
              "      cursor: pointer;\n",
              "      display: none;\n",
              "      fill: #1967D2;\n",
              "      height: 32px;\n",
              "      padding: 0 0 0 0;\n",
              "      width: 32px;\n",
              "    }\n",
              "\n",
              "    .colab-df-convert:hover {\n",
              "      background-color: #E2EBFA;\n",
              "      box-shadow: 0px 1px 2px rgba(60, 64, 67, 0.3), 0px 1px 3px 1px rgba(60, 64, 67, 0.15);\n",
              "      fill: #174EA6;\n",
              "    }\n",
              "\n",
              "    [theme=dark] .colab-df-convert {\n",
              "      background-color: #3B4455;\n",
              "      fill: #D2E3FC;\n",
              "    }\n",
              "\n",
              "    [theme=dark] .colab-df-convert:hover {\n",
              "      background-color: #434B5C;\n",
              "      box-shadow: 0px 1px 3px 1px rgba(0, 0, 0, 0.15);\n",
              "      filter: drop-shadow(0px 1px 2px rgba(0, 0, 0, 0.3));\n",
              "      fill: #FFFFFF;\n",
              "    }\n",
              "  </style>\n",
              "\n",
              "      <script>\n",
              "        const buttonEl =\n",
              "          document.querySelector('#df-1341a95b-a72f-4f9c-8320-ca61dde06473 button.colab-df-convert');\n",
              "        buttonEl.style.display =\n",
              "          google.colab.kernel.accessAllowed ? 'block' : 'none';\n",
              "\n",
              "        async function convertToInteractive(key) {\n",
              "          const element = document.querySelector('#df-1341a95b-a72f-4f9c-8320-ca61dde06473');\n",
              "          const dataTable =\n",
              "            await google.colab.kernel.invokeFunction('convertToInteractive',\n",
              "                                                     [key], {});\n",
              "          if (!dataTable) return;\n",
              "\n",
              "          const docLinkHtml = 'Like what you see? Visit the ' +\n",
              "            '<a target=\"_blank\" href=https://colab.research.google.com/notebooks/data_table.ipynb>data table notebook</a>'\n",
              "            + ' to learn more about interactive tables.';\n",
              "          element.innerHTML = '';\n",
              "          dataTable['output_type'] = 'display_data';\n",
              "          await google.colab.output.renderOutput(dataTable, element);\n",
              "          const docLink = document.createElement('div');\n",
              "          docLink.innerHTML = docLinkHtml;\n",
              "          element.appendChild(docLink);\n",
              "        }\n",
              "      </script>\n",
              "    </div>\n",
              "  </div>\n",
              "  "
            ]
          },
          "metadata": {},
          "execution_count": 2
        }
      ]
    },
    {
      "cell_type": "markdown",
      "source": [
        "# Classificadores"
      ],
      "metadata": {
        "id": "QA2mpEOrG1nd"
      }
    },
    {
      "cell_type": "markdown",
      "source": [
        "## 2. Quais os tipos de classificação?"
      ],
      "metadata": {
        "id": "vK8wQbD4G4GD"
      }
    },
    {
      "cell_type": "markdown",
      "source": [
        "- Classificação binária\n",
        "- Classificação multiclasses\n",
        "- Classificação multilabel"
      ],
      "metadata": {
        "id": "6vRgKwN8Hvnb"
      }
    },
    {
      "cell_type": "markdown",
      "source": [
        "# Desafios de usar string como target"
      ],
      "metadata": {
        "id": "sDP5sHTwIUcV"
      }
    },
    {
      "cell_type": "markdown",
      "source": [
        "## 3. Quantas linhas tem nosso dataframe?"
      ],
      "metadata": {
        "id": "_SU2NsCMI9B2"
      }
    },
    {
      "cell_type": "code",
      "source": [
        "perguntas.shape[0]"
      ],
      "metadata": {
        "colab": {
          "base_uri": "https://localhost:8080/"
        },
        "id": "RmJ3bWIYJ5SB",
        "outputId": "078729b3-8b00-4777-dd10-207abbd42e09"
      },
      "execution_count": null,
      "outputs": [
        {
          "output_type": "execute_result",
          "data": {
            "text/plain": [
              "5408"
            ]
          },
          "metadata": {},
          "execution_count": 3
        }
      ]
    },
    {
      "cell_type": "markdown",
      "source": [
        "## 4. Quantos tipos de tags tem na coluna tag?"
      ],
      "metadata": {
        "id": "QVXnfVXwJBdL"
      }
    },
    {
      "cell_type": "code",
      "source": [
        "perguntas['Tags'].unique().shape[0]"
      ],
      "metadata": {
        "colab": {
          "base_uri": "https://localhost:8080/"
        },
        "id": "X30TETL8J57f",
        "outputId": "bea173c1-9d69-466b-92c1-d7ba24d12c26"
      },
      "execution_count": null,
      "outputs": [
        {
          "output_type": "execute_result",
          "data": {
            "text/plain": [
              "37"
            ]
          },
          "metadata": {},
          "execution_count": 4
        }
      ]
    },
    {
      "cell_type": "code",
      "source": [
        "perguntas['Tags'].unique()"
      ],
      "metadata": {
        "colab": {
          "base_uri": "https://localhost:8080/"
        },
        "id": "2y2Co6DWMnvr",
        "outputId": "d645630a-7535-4615-b70e-49ac92e18ee2"
      },
      "execution_count": null,
      "outputs": [
        {
          "output_type": "execute_result",
          "data": {
            "text/plain": [
              "array(['node.js', 'jquery', 'html', 'html angular ', 'html ', 'angular',\n",
              "       'angular ', 'jquery html  ', 'jquery ', 'jquery html',\n",
              "       'jquery html ', 'html angular', 'angular node.js ', 'html  ',\n",
              "       'jquery html angular', 'node.js ', 'html jquery', 'html jquery ',\n",
              "       'jquery angular  ', 'html node.js', 'jquery  ', 'angular node.js',\n",
              "       'jquery angular', 'html node.js ', 'jquery node.js ', 'angular  ',\n",
              "       'jquery angular ', 'jquery html angular ', 'node.js html ',\n",
              "       ' node.js', 'node.js html', 'html angular  ', 'jquery node.js',\n",
              "       'angular html', 'html angular  node.js', 'jquery html node.js',\n",
              "       'html angular node.js'], dtype=object)"
            ]
          },
          "metadata": {},
          "execution_count": 5
        }
      ]
    },
    {
      "cell_type": "markdown",
      "source": [
        "# Explorando uma possível solução de utilizar strings como alvo"
      ],
      "metadata": {
        "id": "1WLqaZJsJIXs"
      }
    },
    {
      "cell_type": "markdown",
      "source": [
        "## 5. Crie uma lista com cada label única"
      ],
      "metadata": {
        "id": "_IxIi8WrKW2l"
      }
    },
    {
      "cell_type": "code",
      "source": [
        "labels = list()\n",
        "\n",
        "for tags in perguntas['Tags'].unique():\n",
        "  for tag in tags.split():\n",
        "    if tag not in labels:\n",
        "      labels.append(tag)\n",
        "\n",
        "labels"
      ],
      "metadata": {
        "colab": {
          "base_uri": "https://localhost:8080/"
        },
        "id": "2fkhsWZeLors",
        "outputId": "f509cbe4-94f6-4b40-9e74-5c3bdb191ae9"
      },
      "execution_count": null,
      "outputs": [
        {
          "output_type": "execute_result",
          "data": {
            "text/plain": [
              "['node.js', 'jquery', 'html', 'angular']"
            ]
          },
          "metadata": {},
          "execution_count": 6
        }
      ]
    },
    {
      "cell_type": "markdown",
      "source": [
        "# Transformando labels em colunas"
      ],
      "metadata": {
        "id": "bMa4fNCnLivB"
      }
    },
    {
      "cell_type": "markdown",
      "source": [
        "## 6. Crie colunas para as labels"
      ],
      "metadata": {
        "id": "MQmo1aa8NJ0q"
      }
    },
    {
      "cell_type": "code",
      "source": [
        "node_js = list()\n",
        "\n",
        "for i in perguntas['Tags']:\n",
        "  if 'node.js' in i:\n",
        "    node_js.append(1)\n",
        "  else:\n",
        "    node_js.append(0)\n",
        "\n",
        "perguntas"
      ],
      "metadata": {
        "id": "2PkCrNN4GXgH",
        "colab": {
          "base_uri": "https://localhost:8080/",
          "height": 423
        },
        "outputId": "4ee11478-c219-4880-9a71-3e19ac2ae742"
      },
      "execution_count": null,
      "outputs": [
        {
          "output_type": "execute_result",
          "data": {
            "text/plain": [
              "                                              Perguntas           Tags\n",
              "0     Possuo um projeto Node.js porém preciso criar ...        node.js\n",
              "1     Gostaria de fazer testes unitários no Node.js,...        node.js\n",
              "2     Como inverter a ordem com que o jQuery itera u...         jquery\n",
              "3     Eu tenho uma página onde pretendo utilizar um ...           html\n",
              "4     Como exibir os dados retornados do FireStore e...  html angular \n",
              "...                                                 ...            ...\n",
              "5403  Queria saber como pegar o total de cores de um...   jquery html \n",
              "5404  Boa noite, estou usando phonegap para fazer um...          html \n",
              "5405  Estou construindo um mini fórum, e nele, os us...    jquery html\n",
              "5406  Boa tarde,  Estou para desenvolver um site na ...           html\n",
              "5407  Estou fazendo um hotsite, ele é one page, e é ...    jquery html\n",
              "\n",
              "[5408 rows x 2 columns]"
            ],
            "text/html": [
              "\n",
              "  <div id=\"df-f7214901-6e5e-4062-a762-e0d8c1ed0eb9\">\n",
              "    <div class=\"colab-df-container\">\n",
              "      <div>\n",
              "<style scoped>\n",
              "    .dataframe tbody tr th:only-of-type {\n",
              "        vertical-align: middle;\n",
              "    }\n",
              "\n",
              "    .dataframe tbody tr th {\n",
              "        vertical-align: top;\n",
              "    }\n",
              "\n",
              "    .dataframe thead th {\n",
              "        text-align: right;\n",
              "    }\n",
              "</style>\n",
              "<table border=\"1\" class=\"dataframe\">\n",
              "  <thead>\n",
              "    <tr style=\"text-align: right;\">\n",
              "      <th></th>\n",
              "      <th>Perguntas</th>\n",
              "      <th>Tags</th>\n",
              "    </tr>\n",
              "  </thead>\n",
              "  <tbody>\n",
              "    <tr>\n",
              "      <th>0</th>\n",
              "      <td>Possuo um projeto Node.js porém preciso criar ...</td>\n",
              "      <td>node.js</td>\n",
              "    </tr>\n",
              "    <tr>\n",
              "      <th>1</th>\n",
              "      <td>Gostaria de fazer testes unitários no Node.js,...</td>\n",
              "      <td>node.js</td>\n",
              "    </tr>\n",
              "    <tr>\n",
              "      <th>2</th>\n",
              "      <td>Como inverter a ordem com que o jQuery itera u...</td>\n",
              "      <td>jquery</td>\n",
              "    </tr>\n",
              "    <tr>\n",
              "      <th>3</th>\n",
              "      <td>Eu tenho uma página onde pretendo utilizar um ...</td>\n",
              "      <td>html</td>\n",
              "    </tr>\n",
              "    <tr>\n",
              "      <th>4</th>\n",
              "      <td>Como exibir os dados retornados do FireStore e...</td>\n",
              "      <td>html angular</td>\n",
              "    </tr>\n",
              "    <tr>\n",
              "      <th>...</th>\n",
              "      <td>...</td>\n",
              "      <td>...</td>\n",
              "    </tr>\n",
              "    <tr>\n",
              "      <th>5403</th>\n",
              "      <td>Queria saber como pegar o total de cores de um...</td>\n",
              "      <td>jquery html</td>\n",
              "    </tr>\n",
              "    <tr>\n",
              "      <th>5404</th>\n",
              "      <td>Boa noite, estou usando phonegap para fazer um...</td>\n",
              "      <td>html</td>\n",
              "    </tr>\n",
              "    <tr>\n",
              "      <th>5405</th>\n",
              "      <td>Estou construindo um mini fórum, e nele, os us...</td>\n",
              "      <td>jquery html</td>\n",
              "    </tr>\n",
              "    <tr>\n",
              "      <th>5406</th>\n",
              "      <td>Boa tarde,  Estou para desenvolver um site na ...</td>\n",
              "      <td>html</td>\n",
              "    </tr>\n",
              "    <tr>\n",
              "      <th>5407</th>\n",
              "      <td>Estou fazendo um hotsite, ele é one page, e é ...</td>\n",
              "      <td>jquery html</td>\n",
              "    </tr>\n",
              "  </tbody>\n",
              "</table>\n",
              "<p>5408 rows × 2 columns</p>\n",
              "</div>\n",
              "      <button class=\"colab-df-convert\" onclick=\"convertToInteractive('df-f7214901-6e5e-4062-a762-e0d8c1ed0eb9')\"\n",
              "              title=\"Convert this dataframe to an interactive table.\"\n",
              "              style=\"display:none;\">\n",
              "        \n",
              "  <svg xmlns=\"http://www.w3.org/2000/svg\" height=\"24px\"viewBox=\"0 0 24 24\"\n",
              "       width=\"24px\">\n",
              "    <path d=\"M0 0h24v24H0V0z\" fill=\"none\"/>\n",
              "    <path d=\"M18.56 5.44l.94 2.06.94-2.06 2.06-.94-2.06-.94-.94-2.06-.94 2.06-2.06.94zm-11 1L8.5 8.5l.94-2.06 2.06-.94-2.06-.94L8.5 2.5l-.94 2.06-2.06.94zm10 10l.94 2.06.94-2.06 2.06-.94-2.06-.94-.94-2.06-.94 2.06-2.06.94z\"/><path d=\"M17.41 7.96l-1.37-1.37c-.4-.4-.92-.59-1.43-.59-.52 0-1.04.2-1.43.59L10.3 9.45l-7.72 7.72c-.78.78-.78 2.05 0 2.83L4 21.41c.39.39.9.59 1.41.59.51 0 1.02-.2 1.41-.59l7.78-7.78 2.81-2.81c.8-.78.8-2.07 0-2.86zM5.41 20L4 18.59l7.72-7.72 1.47 1.35L5.41 20z\"/>\n",
              "  </svg>\n",
              "      </button>\n",
              "      \n",
              "  <style>\n",
              "    .colab-df-container {\n",
              "      display:flex;\n",
              "      flex-wrap:wrap;\n",
              "      gap: 12px;\n",
              "    }\n",
              "\n",
              "    .colab-df-convert {\n",
              "      background-color: #E8F0FE;\n",
              "      border: none;\n",
              "      border-radius: 50%;\n",
              "      cursor: pointer;\n",
              "      display: none;\n",
              "      fill: #1967D2;\n",
              "      height: 32px;\n",
              "      padding: 0 0 0 0;\n",
              "      width: 32px;\n",
              "    }\n",
              "\n",
              "    .colab-df-convert:hover {\n",
              "      background-color: #E2EBFA;\n",
              "      box-shadow: 0px 1px 2px rgba(60, 64, 67, 0.3), 0px 1px 3px 1px rgba(60, 64, 67, 0.15);\n",
              "      fill: #174EA6;\n",
              "    }\n",
              "\n",
              "    [theme=dark] .colab-df-convert {\n",
              "      background-color: #3B4455;\n",
              "      fill: #D2E3FC;\n",
              "    }\n",
              "\n",
              "    [theme=dark] .colab-df-convert:hover {\n",
              "      background-color: #434B5C;\n",
              "      box-shadow: 0px 1px 3px 1px rgba(0, 0, 0, 0.15);\n",
              "      filter: drop-shadow(0px 1px 2px rgba(0, 0, 0, 0.3));\n",
              "      fill: #FFFFFF;\n",
              "    }\n",
              "  </style>\n",
              "\n",
              "      <script>\n",
              "        const buttonEl =\n",
              "          document.querySelector('#df-f7214901-6e5e-4062-a762-e0d8c1ed0eb9 button.colab-df-convert');\n",
              "        buttonEl.style.display =\n",
              "          google.colab.kernel.accessAllowed ? 'block' : 'none';\n",
              "\n",
              "        async function convertToInteractive(key) {\n",
              "          const element = document.querySelector('#df-f7214901-6e5e-4062-a762-e0d8c1ed0eb9');\n",
              "          const dataTable =\n",
              "            await google.colab.kernel.invokeFunction('convertToInteractive',\n",
              "                                                     [key], {});\n",
              "          if (!dataTable) return;\n",
              "\n",
              "          const docLinkHtml = 'Like what you see? Visit the ' +\n",
              "            '<a target=\"_blank\" href=https://colab.research.google.com/notebooks/data_table.ipynb>data table notebook</a>'\n",
              "            + ' to learn more about interactive tables.';\n",
              "          element.innerHTML = '';\n",
              "          dataTable['output_type'] = 'display_data';\n",
              "          await google.colab.output.renderOutput(dataTable, element);\n",
              "          const docLink = document.createElement('div');\n",
              "          docLink.innerHTML = docLinkHtml;\n",
              "          element.appendChild(docLink);\n",
              "        }\n",
              "      </script>\n",
              "    </div>\n",
              "  </div>\n",
              "  "
            ]
          },
          "metadata": {},
          "execution_count": 7
        }
      ]
    },
    {
      "cell_type": "markdown",
      "source": [
        "## 7. Construa uma função de criação de colunas"
      ],
      "metadata": {
        "id": "BfhqOIpMNKYR"
      }
    },
    {
      "cell_type": "code",
      "source": [
        "def nova_coluna(labels):\n",
        "  for label in labels:\n",
        "    lista = list()\n",
        "    for linha in perguntas['Tags']:\n",
        "      if label in linha:\n",
        "        lista.append(1)\n",
        "      else:\n",
        "        lista.append(0)\n",
        "    perguntas[label] = lista"
      ],
      "metadata": {
        "id": "3cqzAdH8PjaQ"
      },
      "execution_count": null,
      "outputs": []
    },
    {
      "cell_type": "code",
      "source": [
        "nova_coluna(labels)\n",
        "perguntas.sample(10)"
      ],
      "metadata": {
        "colab": {
          "base_uri": "https://localhost:8080/",
          "height": 580
        },
        "id": "XKfHjD6gUMQd",
        "outputId": "a736fbf6-64b9-4028-c5e4-d68ef79825a9"
      },
      "execution_count": null,
      "outputs": [
        {
          "output_type": "execute_result",
          "data": {
            "text/plain": [
              "                                              Perguntas          Tags  \\\n",
              "1181  Estou tentando utilizar a mascara angular-inpu...       angular   \n",
              "2302  CODE   CODE   CODE         Tenho esse código q...          html   \n",
              "791   formulário tem o button foram do  então eu faç...       angular   \n",
              "2248  Como pode ser visto no código, as variáveis de...          html   \n",
              "2393  Gostaria de saber como faço para substituir os...          html   \n",
              "277   Dada uma data ex: 24/05/1982, como transformar...          html   \n",
              "4902  Estou trabalhando em um site estático, onde te...  html node.js   \n",
              "4118  Estou com problema na migração do ionic beta.1...      angular    \n",
              "2092  Eu tenho a ideia de construir um rodapé fixo n...         html    \n",
              "3608  Saudações dev's, eu declarei o schema de segui...       node.js   \n",
              "\n",
              "      node.js  jquery  html  angular  \n",
              "1181        0       0     0        1  \n",
              "2302        0       0     1        0  \n",
              "791         0       0     0        1  \n",
              "2248        0       0     1        0  \n",
              "2393        0       0     1        0  \n",
              "277         0       0     1        0  \n",
              "4902        1       0     1        0  \n",
              "4118        0       0     0        1  \n",
              "2092        0       0     1        0  \n",
              "3608        1       0     0        0  "
            ],
            "text/html": [
              "\n",
              "  <div id=\"df-a814270b-1812-4910-86bb-cfbfcac80686\">\n",
              "    <div class=\"colab-df-container\">\n",
              "      <div>\n",
              "<style scoped>\n",
              "    .dataframe tbody tr th:only-of-type {\n",
              "        vertical-align: middle;\n",
              "    }\n",
              "\n",
              "    .dataframe tbody tr th {\n",
              "        vertical-align: top;\n",
              "    }\n",
              "\n",
              "    .dataframe thead th {\n",
              "        text-align: right;\n",
              "    }\n",
              "</style>\n",
              "<table border=\"1\" class=\"dataframe\">\n",
              "  <thead>\n",
              "    <tr style=\"text-align: right;\">\n",
              "      <th></th>\n",
              "      <th>Perguntas</th>\n",
              "      <th>Tags</th>\n",
              "      <th>node.js</th>\n",
              "      <th>jquery</th>\n",
              "      <th>html</th>\n",
              "      <th>angular</th>\n",
              "    </tr>\n",
              "  </thead>\n",
              "  <tbody>\n",
              "    <tr>\n",
              "      <th>1181</th>\n",
              "      <td>Estou tentando utilizar a mascara angular-inpu...</td>\n",
              "      <td>angular</td>\n",
              "      <td>0</td>\n",
              "      <td>0</td>\n",
              "      <td>0</td>\n",
              "      <td>1</td>\n",
              "    </tr>\n",
              "    <tr>\n",
              "      <th>2302</th>\n",
              "      <td>CODE   CODE   CODE         Tenho esse código q...</td>\n",
              "      <td>html</td>\n",
              "      <td>0</td>\n",
              "      <td>0</td>\n",
              "      <td>1</td>\n",
              "      <td>0</td>\n",
              "    </tr>\n",
              "    <tr>\n",
              "      <th>791</th>\n",
              "      <td>formulário tem o button foram do  então eu faç...</td>\n",
              "      <td>angular</td>\n",
              "      <td>0</td>\n",
              "      <td>0</td>\n",
              "      <td>0</td>\n",
              "      <td>1</td>\n",
              "    </tr>\n",
              "    <tr>\n",
              "      <th>2248</th>\n",
              "      <td>Como pode ser visto no código, as variáveis de...</td>\n",
              "      <td>html</td>\n",
              "      <td>0</td>\n",
              "      <td>0</td>\n",
              "      <td>1</td>\n",
              "      <td>0</td>\n",
              "    </tr>\n",
              "    <tr>\n",
              "      <th>2393</th>\n",
              "      <td>Gostaria de saber como faço para substituir os...</td>\n",
              "      <td>html</td>\n",
              "      <td>0</td>\n",
              "      <td>0</td>\n",
              "      <td>1</td>\n",
              "      <td>0</td>\n",
              "    </tr>\n",
              "    <tr>\n",
              "      <th>277</th>\n",
              "      <td>Dada uma data ex: 24/05/1982, como transformar...</td>\n",
              "      <td>html</td>\n",
              "      <td>0</td>\n",
              "      <td>0</td>\n",
              "      <td>1</td>\n",
              "      <td>0</td>\n",
              "    </tr>\n",
              "    <tr>\n",
              "      <th>4902</th>\n",
              "      <td>Estou trabalhando em um site estático, onde te...</td>\n",
              "      <td>html node.js</td>\n",
              "      <td>1</td>\n",
              "      <td>0</td>\n",
              "      <td>1</td>\n",
              "      <td>0</td>\n",
              "    </tr>\n",
              "    <tr>\n",
              "      <th>4118</th>\n",
              "      <td>Estou com problema na migração do ionic beta.1...</td>\n",
              "      <td>angular</td>\n",
              "      <td>0</td>\n",
              "      <td>0</td>\n",
              "      <td>0</td>\n",
              "      <td>1</td>\n",
              "    </tr>\n",
              "    <tr>\n",
              "      <th>2092</th>\n",
              "      <td>Eu tenho a ideia de construir um rodapé fixo n...</td>\n",
              "      <td>html</td>\n",
              "      <td>0</td>\n",
              "      <td>0</td>\n",
              "      <td>1</td>\n",
              "      <td>0</td>\n",
              "    </tr>\n",
              "    <tr>\n",
              "      <th>3608</th>\n",
              "      <td>Saudações dev's, eu declarei o schema de segui...</td>\n",
              "      <td>node.js</td>\n",
              "      <td>1</td>\n",
              "      <td>0</td>\n",
              "      <td>0</td>\n",
              "      <td>0</td>\n",
              "    </tr>\n",
              "  </tbody>\n",
              "</table>\n",
              "</div>\n",
              "      <button class=\"colab-df-convert\" onclick=\"convertToInteractive('df-a814270b-1812-4910-86bb-cfbfcac80686')\"\n",
              "              title=\"Convert this dataframe to an interactive table.\"\n",
              "              style=\"display:none;\">\n",
              "        \n",
              "  <svg xmlns=\"http://www.w3.org/2000/svg\" height=\"24px\"viewBox=\"0 0 24 24\"\n",
              "       width=\"24px\">\n",
              "    <path d=\"M0 0h24v24H0V0z\" fill=\"none\"/>\n",
              "    <path d=\"M18.56 5.44l.94 2.06.94-2.06 2.06-.94-2.06-.94-.94-2.06-.94 2.06-2.06.94zm-11 1L8.5 8.5l.94-2.06 2.06-.94-2.06-.94L8.5 2.5l-.94 2.06-2.06.94zm10 10l.94 2.06.94-2.06 2.06-.94-2.06-.94-.94-2.06-.94 2.06-2.06.94z\"/><path d=\"M17.41 7.96l-1.37-1.37c-.4-.4-.92-.59-1.43-.59-.52 0-1.04.2-1.43.59L10.3 9.45l-7.72 7.72c-.78.78-.78 2.05 0 2.83L4 21.41c.39.39.9.59 1.41.59.51 0 1.02-.2 1.41-.59l7.78-7.78 2.81-2.81c.8-.78.8-2.07 0-2.86zM5.41 20L4 18.59l7.72-7.72 1.47 1.35L5.41 20z\"/>\n",
              "  </svg>\n",
              "      </button>\n",
              "      \n",
              "  <style>\n",
              "    .colab-df-container {\n",
              "      display:flex;\n",
              "      flex-wrap:wrap;\n",
              "      gap: 12px;\n",
              "    }\n",
              "\n",
              "    .colab-df-convert {\n",
              "      background-color: #E8F0FE;\n",
              "      border: none;\n",
              "      border-radius: 50%;\n",
              "      cursor: pointer;\n",
              "      display: none;\n",
              "      fill: #1967D2;\n",
              "      height: 32px;\n",
              "      padding: 0 0 0 0;\n",
              "      width: 32px;\n",
              "    }\n",
              "\n",
              "    .colab-df-convert:hover {\n",
              "      background-color: #E2EBFA;\n",
              "      box-shadow: 0px 1px 2px rgba(60, 64, 67, 0.3), 0px 1px 3px 1px rgba(60, 64, 67, 0.15);\n",
              "      fill: #174EA6;\n",
              "    }\n",
              "\n",
              "    [theme=dark] .colab-df-convert {\n",
              "      background-color: #3B4455;\n",
              "      fill: #D2E3FC;\n",
              "    }\n",
              "\n",
              "    [theme=dark] .colab-df-convert:hover {\n",
              "      background-color: #434B5C;\n",
              "      box-shadow: 0px 1px 3px 1px rgba(0, 0, 0, 0.15);\n",
              "      filter: drop-shadow(0px 1px 2px rgba(0, 0, 0, 0.3));\n",
              "      fill: #FFFFFF;\n",
              "    }\n",
              "  </style>\n",
              "\n",
              "      <script>\n",
              "        const buttonEl =\n",
              "          document.querySelector('#df-a814270b-1812-4910-86bb-cfbfcac80686 button.colab-df-convert');\n",
              "        buttonEl.style.display =\n",
              "          google.colab.kernel.accessAllowed ? 'block' : 'none';\n",
              "\n",
              "        async function convertToInteractive(key) {\n",
              "          const element = document.querySelector('#df-a814270b-1812-4910-86bb-cfbfcac80686');\n",
              "          const dataTable =\n",
              "            await google.colab.kernel.invokeFunction('convertToInteractive',\n",
              "                                                     [key], {});\n",
              "          if (!dataTable) return;\n",
              "\n",
              "          const docLinkHtml = 'Like what you see? Visit the ' +\n",
              "            '<a target=\"_blank\" href=https://colab.research.google.com/notebooks/data_table.ipynb>data table notebook</a>'\n",
              "            + ' to learn more about interactive tables.';\n",
              "          element.innerHTML = '';\n",
              "          dataTable['output_type'] = 'display_data';\n",
              "          await google.colab.output.renderOutput(dataTable, element);\n",
              "          const docLink = document.createElement('div');\n",
              "          docLink.innerHTML = docLinkHtml;\n",
              "          element.appendChild(docLink);\n",
              "        }\n",
              "      </script>\n",
              "    </div>\n",
              "  </div>\n",
              "  "
            ]
          },
          "metadata": {},
          "execution_count": 9
        }
      ]
    },
    {
      "cell_type": "markdown",
      "source": [
        "# Dados de treino e teste"
      ],
      "metadata": {
        "id": "JDM0209RNKdX"
      }
    },
    {
      "cell_type": "markdown",
      "source": [
        "## 8. Para que serve o train_test_split?"
      ],
      "metadata": {
        "id": "ltZ-DtrJVEfs"
      }
    },
    {
      "cell_type": "markdown",
      "source": [
        "O train_test_split é o método que separa nossos dados em treino e teste."
      ],
      "metadata": {
        "id": "aIgUTk8WJsAf"
      }
    },
    {
      "cell_type": "markdown",
      "source": [
        "## 9. Importe o train_test_split."
      ],
      "metadata": {
        "id": "KPcaoclTVKpI"
      }
    },
    {
      "cell_type": "code",
      "source": [
        "from sklearn.model_selection import train_test_split\n",
        "\n",
        "perguntas_treino, perguntas_teste, tags_treino, tags_teste = train_test_split(\n",
        "    perguntas['Perguntas'],\n",
        "    perguntas['Tags']\n",
        ")"
      ],
      "metadata": {
        "id": "sqJX-O5lU0-1"
      },
      "execution_count": null,
      "outputs": []
    },
    {
      "cell_type": "markdown",
      "source": [
        "# Zip para classificação multilabel"
      ],
      "metadata": {
        "id": "-MhvU8_uWmU6"
      }
    },
    {
      "cell_type": "code",
      "source": [
        "lista1 = [1,2]\n",
        "lista2 = [5,4]\n",
        "lista_zip = zip(lista1, lista2)\n",
        "print(list(lista_zip))"
      ],
      "metadata": {
        "colab": {
          "base_uri": "https://localhost:8080/"
        },
        "id": "U4rVYQOwXkHW",
        "outputId": "64d3391d-f450-41b2-859b-60c1b0cc0b7e"
      },
      "execution_count": null,
      "outputs": [
        {
          "output_type": "stream",
          "name": "stdout",
          "text": [
            "[(1, 5), (2, 4)]\n"
          ]
        }
      ]
    },
    {
      "cell_type": "markdown",
      "source": [
        "## 10. Crie um zip com a lista de labels"
      ],
      "metadata": {
        "id": "yfg_GEmDW0Xx"
      }
    },
    {
      "cell_type": "code",
      "source": [
        "lista_zip_tags = list(zip(perguntas[labels[0]],\n",
        "                          perguntas[labels[1]],\n",
        "                          perguntas[labels[2]],\n",
        "                          perguntas[labels[3]]))\n",
        "\n",
        "perguntas['todas_tags'] = lista_zip_tags\n",
        "\n",
        "perguntas.head()"
      ],
      "metadata": {
        "colab": {
          "base_uri": "https://localhost:8080/",
          "height": 337
        },
        "id": "Yeutz0LZWhOU",
        "outputId": "50de87db-c726-4b99-a51e-9082081d163e"
      },
      "execution_count": null,
      "outputs": [
        {
          "output_type": "execute_result",
          "data": {
            "text/plain": [
              "                                           Perguntas           Tags  node.js  \\\n",
              "0  Possuo um projeto Node.js porém preciso criar ...        node.js        1   \n",
              "1  Gostaria de fazer testes unitários no Node.js,...        node.js        1   \n",
              "2  Como inverter a ordem com que o jQuery itera u...         jquery        0   \n",
              "3  Eu tenho uma página onde pretendo utilizar um ...           html        0   \n",
              "4  Como exibir os dados retornados do FireStore e...  html angular         0   \n",
              "\n",
              "   jquery  html  angular    todas_tags  \n",
              "0       0     0        0  (1, 0, 0, 0)  \n",
              "1       0     0        0  (1, 0, 0, 0)  \n",
              "2       1     0        0  (0, 1, 0, 0)  \n",
              "3       0     1        0  (0, 0, 1, 0)  \n",
              "4       0     1        1  (0, 0, 1, 1)  "
            ],
            "text/html": [
              "\n",
              "  <div id=\"df-49ed2165-0a86-4606-958b-188dd10e5269\">\n",
              "    <div class=\"colab-df-container\">\n",
              "      <div>\n",
              "<style scoped>\n",
              "    .dataframe tbody tr th:only-of-type {\n",
              "        vertical-align: middle;\n",
              "    }\n",
              "\n",
              "    .dataframe tbody tr th {\n",
              "        vertical-align: top;\n",
              "    }\n",
              "\n",
              "    .dataframe thead th {\n",
              "        text-align: right;\n",
              "    }\n",
              "</style>\n",
              "<table border=\"1\" class=\"dataframe\">\n",
              "  <thead>\n",
              "    <tr style=\"text-align: right;\">\n",
              "      <th></th>\n",
              "      <th>Perguntas</th>\n",
              "      <th>Tags</th>\n",
              "      <th>node.js</th>\n",
              "      <th>jquery</th>\n",
              "      <th>html</th>\n",
              "      <th>angular</th>\n",
              "      <th>todas_tags</th>\n",
              "    </tr>\n",
              "  </thead>\n",
              "  <tbody>\n",
              "    <tr>\n",
              "      <th>0</th>\n",
              "      <td>Possuo um projeto Node.js porém preciso criar ...</td>\n",
              "      <td>node.js</td>\n",
              "      <td>1</td>\n",
              "      <td>0</td>\n",
              "      <td>0</td>\n",
              "      <td>0</td>\n",
              "      <td>(1, 0, 0, 0)</td>\n",
              "    </tr>\n",
              "    <tr>\n",
              "      <th>1</th>\n",
              "      <td>Gostaria de fazer testes unitários no Node.js,...</td>\n",
              "      <td>node.js</td>\n",
              "      <td>1</td>\n",
              "      <td>0</td>\n",
              "      <td>0</td>\n",
              "      <td>0</td>\n",
              "      <td>(1, 0, 0, 0)</td>\n",
              "    </tr>\n",
              "    <tr>\n",
              "      <th>2</th>\n",
              "      <td>Como inverter a ordem com que o jQuery itera u...</td>\n",
              "      <td>jquery</td>\n",
              "      <td>0</td>\n",
              "      <td>1</td>\n",
              "      <td>0</td>\n",
              "      <td>0</td>\n",
              "      <td>(0, 1, 0, 0)</td>\n",
              "    </tr>\n",
              "    <tr>\n",
              "      <th>3</th>\n",
              "      <td>Eu tenho uma página onde pretendo utilizar um ...</td>\n",
              "      <td>html</td>\n",
              "      <td>0</td>\n",
              "      <td>0</td>\n",
              "      <td>1</td>\n",
              "      <td>0</td>\n",
              "      <td>(0, 0, 1, 0)</td>\n",
              "    </tr>\n",
              "    <tr>\n",
              "      <th>4</th>\n",
              "      <td>Como exibir os dados retornados do FireStore e...</td>\n",
              "      <td>html angular</td>\n",
              "      <td>0</td>\n",
              "      <td>0</td>\n",
              "      <td>1</td>\n",
              "      <td>1</td>\n",
              "      <td>(0, 0, 1, 1)</td>\n",
              "    </tr>\n",
              "  </tbody>\n",
              "</table>\n",
              "</div>\n",
              "      <button class=\"colab-df-convert\" onclick=\"convertToInteractive('df-49ed2165-0a86-4606-958b-188dd10e5269')\"\n",
              "              title=\"Convert this dataframe to an interactive table.\"\n",
              "              style=\"display:none;\">\n",
              "        \n",
              "  <svg xmlns=\"http://www.w3.org/2000/svg\" height=\"24px\"viewBox=\"0 0 24 24\"\n",
              "       width=\"24px\">\n",
              "    <path d=\"M0 0h24v24H0V0z\" fill=\"none\"/>\n",
              "    <path d=\"M18.56 5.44l.94 2.06.94-2.06 2.06-.94-2.06-.94-.94-2.06-.94 2.06-2.06.94zm-11 1L8.5 8.5l.94-2.06 2.06-.94-2.06-.94L8.5 2.5l-.94 2.06-2.06.94zm10 10l.94 2.06.94-2.06 2.06-.94-2.06-.94-.94-2.06-.94 2.06-2.06.94z\"/><path d=\"M17.41 7.96l-1.37-1.37c-.4-.4-.92-.59-1.43-.59-.52 0-1.04.2-1.43.59L10.3 9.45l-7.72 7.72c-.78.78-.78 2.05 0 2.83L4 21.41c.39.39.9.59 1.41.59.51 0 1.02-.2 1.41-.59l7.78-7.78 2.81-2.81c.8-.78.8-2.07 0-2.86zM5.41 20L4 18.59l7.72-7.72 1.47 1.35L5.41 20z\"/>\n",
              "  </svg>\n",
              "      </button>\n",
              "      \n",
              "  <style>\n",
              "    .colab-df-container {\n",
              "      display:flex;\n",
              "      flex-wrap:wrap;\n",
              "      gap: 12px;\n",
              "    }\n",
              "\n",
              "    .colab-df-convert {\n",
              "      background-color: #E8F0FE;\n",
              "      border: none;\n",
              "      border-radius: 50%;\n",
              "      cursor: pointer;\n",
              "      display: none;\n",
              "      fill: #1967D2;\n",
              "      height: 32px;\n",
              "      padding: 0 0 0 0;\n",
              "      width: 32px;\n",
              "    }\n",
              "\n",
              "    .colab-df-convert:hover {\n",
              "      background-color: #E2EBFA;\n",
              "      box-shadow: 0px 1px 2px rgba(60, 64, 67, 0.3), 0px 1px 3px 1px rgba(60, 64, 67, 0.15);\n",
              "      fill: #174EA6;\n",
              "    }\n",
              "\n",
              "    [theme=dark] .colab-df-convert {\n",
              "      background-color: #3B4455;\n",
              "      fill: #D2E3FC;\n",
              "    }\n",
              "\n",
              "    [theme=dark] .colab-df-convert:hover {\n",
              "      background-color: #434B5C;\n",
              "      box-shadow: 0px 1px 3px 1px rgba(0, 0, 0, 0.15);\n",
              "      filter: drop-shadow(0px 1px 2px rgba(0, 0, 0, 0.3));\n",
              "      fill: #FFFFFF;\n",
              "    }\n",
              "  </style>\n",
              "\n",
              "      <script>\n",
              "        const buttonEl =\n",
              "          document.querySelector('#df-49ed2165-0a86-4606-958b-188dd10e5269 button.colab-df-convert');\n",
              "        buttonEl.style.display =\n",
              "          google.colab.kernel.accessAllowed ? 'block' : 'none';\n",
              "\n",
              "        async function convertToInteractive(key) {\n",
              "          const element = document.querySelector('#df-49ed2165-0a86-4606-958b-188dd10e5269');\n",
              "          const dataTable =\n",
              "            await google.colab.kernel.invokeFunction('convertToInteractive',\n",
              "                                                     [key], {});\n",
              "          if (!dataTable) return;\n",
              "\n",
              "          const docLinkHtml = 'Like what you see? Visit the ' +\n",
              "            '<a target=\"_blank\" href=https://colab.research.google.com/notebooks/data_table.ipynb>data table notebook</a>'\n",
              "            + ' to learn more about interactive tables.';\n",
              "          element.innerHTML = '';\n",
              "          dataTable['output_type'] = 'display_data';\n",
              "          await google.colab.output.renderOutput(dataTable, element);\n",
              "          const docLink = document.createElement('div');\n",
              "          docLink.innerHTML = docLinkHtml;\n",
              "          element.appendChild(docLink);\n",
              "        }\n",
              "      </script>\n",
              "    </div>\n",
              "  </div>\n",
              "  "
            ]
          },
          "metadata": {},
          "execution_count": 12
        }
      ]
    },
    {
      "cell_type": "markdown",
      "source": [
        "# TF-IDF"
      ],
      "metadata": {
        "id": "8VHBA4kRfUyg"
      }
    },
    {
      "cell_type": "markdown",
      "source": [
        "## 11. Passe a nova coluna todas tags como parâmetro"
      ],
      "metadata": {
        "id": "hLpJlfxNe77m"
      }
    },
    {
      "cell_type": "code",
      "source": [
        "from sklearn.model_selection import train_test_split\n",
        "\n",
        "perguntas_treino, perguntas_teste, tags_treino, tags_teste = train_test_split(\n",
        "    perguntas['Perguntas'],\n",
        "    perguntas['todas_tags'],\n",
        "    test_size = 0.2,\n",
        "    random_state = 123\n",
        ")"
      ],
      "metadata": {
        "id": "0rTsLyWoXWZ1"
      },
      "execution_count": null,
      "outputs": []
    },
    {
      "cell_type": "markdown",
      "source": [
        "## 12. O que é TF-IDF?"
      ],
      "metadata": {
        "id": "hA_nZEXZgBKP"
      }
    },
    {
      "cell_type": "markdown",
      "source": [
        "A principal característica do TF-IDF é ser uma pontuação proporcional à frequência da palavra no texto e equilibrada pela frequência no corpus, ou seja, palavras que se repetem muito tendem a ter pontuações menores e são menos relevantes no processo de classificação."
      ],
      "metadata": {
        "id": "dFv7HcgagtYg"
      }
    },
    {
      "cell_type": "markdown",
      "source": [
        "# Valorizando nossos textos"
      ],
      "metadata": {
        "id": "dDB7rcJOgwwb"
      }
    },
    {
      "cell_type": "markdown",
      "source": [
        "## 13. Importe o vetorizador TF-IDF"
      ],
      "metadata": {
        "id": "HUmq0Zi1g0PK"
      }
    },
    {
      "cell_type": "code",
      "source": [
        "from sklearn.feature_extraction.text import TfidfVectorizer\n",
        "\n",
        "vetorizar = TfidfVectorizer(max_features = 5000, max_df = 0.85)\n",
        "vetorizar"
      ],
      "metadata": {
        "colab": {
          "base_uri": "https://localhost:8080/"
        },
        "id": "sT4m7ktVfifV",
        "outputId": "3e721742-8096-48eb-959b-622f1624599f"
      },
      "execution_count": null,
      "outputs": [
        {
          "output_type": "execute_result",
          "data": {
            "text/plain": [
              "TfidfVectorizer(max_df=0.85, max_features=5000)"
            ]
          },
          "metadata": {},
          "execution_count": 14
        }
      ]
    },
    {
      "cell_type": "markdown",
      "source": [
        "## 14. Vetorize de forma que o modelo de machine learning entenda."
      ],
      "metadata": {
        "id": "p3lt1lGkg_wp"
      }
    },
    {
      "cell_type": "code",
      "source": [
        "vetorizar.fit(perguntas['Perguntas'])\n",
        "perguntas_treino_tfidf = vetorizar.transform(perguntas_treino)\n",
        "perguntas_teste_tfidf = vetorizar.transform(perguntas_teste)\n",
        "print(perguntas_treino_tfidf.shape)\n",
        "print(perguntas_teste_tfidf.shape)"
      ],
      "metadata": {
        "colab": {
          "base_uri": "https://localhost:8080/"
        },
        "id": "wRnqttKdh5Ei",
        "outputId": "c68feeb9-abc0-4faf-848d-767e3ddd23e0"
      },
      "execution_count": null,
      "outputs": [
        {
          "output_type": "stream",
          "name": "stdout",
          "text": [
            "(4326, 5000)\n",
            "(1082, 5000)\n"
          ]
        }
      ]
    },
    {
      "cell_type": "markdown",
      "source": [
        "# Relevância Binária"
      ],
      "metadata": {
        "id": "AaLM-6EgjwHG"
      }
    },
    {
      "cell_type": "markdown",
      "source": [
        "Temos três perguntas que precisam ser classificadas. Algo parecido com o que fizemos no passado, classificando se era novela ou não. O nome daquela classificação era binária. Talvez eu possa usar isso aqui para cada coluna. O nome desse método é relevância binária. Ele vai criar um modelo para cada coluna. Temos a entrada das perguntas, que vai passar pelo modelo e classificar. No fim, tenho a classificação multilabel. Esse modelo resolve nosso problema. Vamos implementar."
      ],
      "metadata": {
        "id": "e_MuAmULkMu-"
      }
    },
    {
      "cell_type": "markdown",
      "source": [
        "# OneVsRest"
      ],
      "metadata": {
        "id": "hE9B3TqdkPoz"
      }
    },
    {
      "cell_type": "markdown",
      "source": [
        "## 15. Importe o OneVsRestClassifier"
      ],
      "metadata": {
        "id": "Xzu_uFF0kj29"
      }
    },
    {
      "cell_type": "code",
      "source": [
        "from sklearn.multiclass import OneVsRestClassifier\n",
        "from sklearn.linear_model import LogisticRegression"
      ],
      "metadata": {
        "id": "sXtLtP0Wi9RF"
      },
      "execution_count": null,
      "outputs": []
    },
    {
      "cell_type": "markdown",
      "source": [
        "## 16. Construa o classificador"
      ],
      "metadata": {
        "id": "Usyh2fXolAlh"
      }
    },
    {
      "cell_type": "code",
      "source": [
        "regressao_logistica = LogisticRegression()\n",
        "classificador_onevsrest = OneVsRestClassifier(regressao_logistica)\n",
        "\n",
        "classificador_onevsrest.fit(perguntas_treino_tfidf, tags_treino)"
      ],
      "metadata": {
        "colab": {
          "base_uri": "https://localhost:8080/",
          "height": 452
        },
        "id": "kUDK2_N7lDJv",
        "outputId": "44759a8f-7671-4487-f2e7-4d1192178c9d"
      },
      "execution_count": null,
      "outputs": [
        {
          "output_type": "error",
          "ename": "ValueError",
          "evalue": "ignored",
          "traceback": [
            "\u001b[0;31m---------------------------------------------------------------------------\u001b[0m",
            "\u001b[0;31mValueError\u001b[0m                                Traceback (most recent call last)",
            "\u001b[0;32m<ipython-input-17-572aa973df32>\u001b[0m in \u001b[0;36m<module>\u001b[0;34m()\u001b[0m\n\u001b[1;32m      2\u001b[0m \u001b[0mclassificador_onevsrest\u001b[0m \u001b[0;34m=\u001b[0m \u001b[0mOneVsRestClassifier\u001b[0m\u001b[0;34m(\u001b[0m\u001b[0mregressao_logistica\u001b[0m\u001b[0;34m)\u001b[0m\u001b[0;34m\u001b[0m\u001b[0;34m\u001b[0m\u001b[0m\n\u001b[1;32m      3\u001b[0m \u001b[0;34m\u001b[0m\u001b[0m\n\u001b[0;32m----> 4\u001b[0;31m \u001b[0mclassificador_onevsrest\u001b[0m\u001b[0;34m.\u001b[0m\u001b[0mfit\u001b[0m\u001b[0;34m(\u001b[0m\u001b[0mperguntas_treino_tfidf\u001b[0m\u001b[0;34m,\u001b[0m \u001b[0mtags_treino\u001b[0m\u001b[0;34m)\u001b[0m\u001b[0;34m\u001b[0m\u001b[0;34m\u001b[0m\u001b[0m\n\u001b[0m",
            "\u001b[0;32m/usr/local/lib/python3.7/dist-packages/sklearn/multiclass.py\u001b[0m in \u001b[0;36mfit\u001b[0;34m(self, X, y)\u001b[0m\n\u001b[1;32m    272\u001b[0m         \u001b[0;31m# overall.\u001b[0m\u001b[0;34m\u001b[0m\u001b[0;34m\u001b[0m\u001b[0;34m\u001b[0m\u001b[0m\n\u001b[1;32m    273\u001b[0m         \u001b[0mself\u001b[0m\u001b[0;34m.\u001b[0m\u001b[0mlabel_binarizer_\u001b[0m \u001b[0;34m=\u001b[0m \u001b[0mLabelBinarizer\u001b[0m\u001b[0;34m(\u001b[0m\u001b[0msparse_output\u001b[0m\u001b[0;34m=\u001b[0m\u001b[0;32mTrue\u001b[0m\u001b[0;34m)\u001b[0m\u001b[0;34m\u001b[0m\u001b[0;34m\u001b[0m\u001b[0m\n\u001b[0;32m--> 274\u001b[0;31m         \u001b[0mY\u001b[0m \u001b[0;34m=\u001b[0m \u001b[0mself\u001b[0m\u001b[0;34m.\u001b[0m\u001b[0mlabel_binarizer_\u001b[0m\u001b[0;34m.\u001b[0m\u001b[0mfit_transform\u001b[0m\u001b[0;34m(\u001b[0m\u001b[0my\u001b[0m\u001b[0;34m)\u001b[0m\u001b[0;34m\u001b[0m\u001b[0;34m\u001b[0m\u001b[0m\n\u001b[0m\u001b[1;32m    275\u001b[0m         \u001b[0mY\u001b[0m \u001b[0;34m=\u001b[0m \u001b[0mY\u001b[0m\u001b[0;34m.\u001b[0m\u001b[0mtocsc\u001b[0m\u001b[0;34m(\u001b[0m\u001b[0;34m)\u001b[0m\u001b[0;34m\u001b[0m\u001b[0;34m\u001b[0m\u001b[0m\n\u001b[1;32m    276\u001b[0m         \u001b[0mself\u001b[0m\u001b[0;34m.\u001b[0m\u001b[0mclasses_\u001b[0m \u001b[0;34m=\u001b[0m \u001b[0mself\u001b[0m\u001b[0;34m.\u001b[0m\u001b[0mlabel_binarizer_\u001b[0m\u001b[0;34m.\u001b[0m\u001b[0mclasses_\u001b[0m\u001b[0;34m\u001b[0m\u001b[0;34m\u001b[0m\u001b[0m\n",
            "\u001b[0;32m/usr/local/lib/python3.7/dist-packages/sklearn/preprocessing/_label.py\u001b[0m in \u001b[0;36mfit_transform\u001b[0;34m(self, y)\u001b[0m\n\u001b[1;32m    319\u001b[0m             \u001b[0mwill\u001b[0m \u001b[0mbe\u001b[0m \u001b[0mof\u001b[0m \u001b[0mCSR\u001b[0m \u001b[0mformat\u001b[0m\u001b[0;34m.\u001b[0m\u001b[0;34m\u001b[0m\u001b[0;34m\u001b[0m\u001b[0m\n\u001b[1;32m    320\u001b[0m         \"\"\"\n\u001b[0;32m--> 321\u001b[0;31m         \u001b[0;32mreturn\u001b[0m \u001b[0mself\u001b[0m\u001b[0;34m.\u001b[0m\u001b[0mfit\u001b[0m\u001b[0;34m(\u001b[0m\u001b[0my\u001b[0m\u001b[0;34m)\u001b[0m\u001b[0;34m.\u001b[0m\u001b[0mtransform\u001b[0m\u001b[0;34m(\u001b[0m\u001b[0my\u001b[0m\u001b[0;34m)\u001b[0m\u001b[0;34m\u001b[0m\u001b[0;34m\u001b[0m\u001b[0m\n\u001b[0m\u001b[1;32m    322\u001b[0m \u001b[0;34m\u001b[0m\u001b[0m\n\u001b[1;32m    323\u001b[0m     \u001b[0;32mdef\u001b[0m \u001b[0mtransform\u001b[0m\u001b[0;34m(\u001b[0m\u001b[0mself\u001b[0m\u001b[0;34m,\u001b[0m \u001b[0my\u001b[0m\u001b[0;34m)\u001b[0m\u001b[0;34m:\u001b[0m\u001b[0;34m\u001b[0m\u001b[0;34m\u001b[0m\u001b[0m\n",
            "\u001b[0;32m/usr/local/lib/python3.7/dist-packages/sklearn/preprocessing/_label.py\u001b[0m in \u001b[0;36mfit\u001b[0;34m(self, y)\u001b[0m\n\u001b[1;32m    287\u001b[0m         \u001b[0mself\u001b[0m \u001b[0;34m:\u001b[0m \u001b[0mreturns\u001b[0m \u001b[0man\u001b[0m \u001b[0minstance\u001b[0m \u001b[0mof\u001b[0m \u001b[0mself\u001b[0m\u001b[0;34m.\u001b[0m\u001b[0;34m\u001b[0m\u001b[0;34m\u001b[0m\u001b[0m\n\u001b[1;32m    288\u001b[0m         \"\"\"\n\u001b[0;32m--> 289\u001b[0;31m         \u001b[0mself\u001b[0m\u001b[0;34m.\u001b[0m\u001b[0my_type_\u001b[0m \u001b[0;34m=\u001b[0m \u001b[0mtype_of_target\u001b[0m\u001b[0;34m(\u001b[0m\u001b[0my\u001b[0m\u001b[0;34m)\u001b[0m\u001b[0;34m\u001b[0m\u001b[0;34m\u001b[0m\u001b[0m\n\u001b[0m\u001b[1;32m    290\u001b[0m         \u001b[0;32mif\u001b[0m \u001b[0;34m'multioutput'\u001b[0m \u001b[0;32min\u001b[0m \u001b[0mself\u001b[0m\u001b[0;34m.\u001b[0m\u001b[0my_type_\u001b[0m\u001b[0;34m:\u001b[0m\u001b[0;34m\u001b[0m\u001b[0;34m\u001b[0m\u001b[0m\n\u001b[1;32m    291\u001b[0m             raise ValueError(\"Multioutput target data is not supported with \"\n",
            "\u001b[0;32m/usr/local/lib/python3.7/dist-packages/sklearn/utils/multiclass.py\u001b[0m in \u001b[0;36mtype_of_target\u001b[0;34m(y)\u001b[0m\n\u001b[1;32m    277\u001b[0m         if (not hasattr(y[0], '__array__') and isinstance(y[0], Sequence)\n\u001b[1;32m    278\u001b[0m                 and not isinstance(y[0], str)):\n\u001b[0;32m--> 279\u001b[0;31m             raise ValueError('You appear to be using a legacy multi-label data'\n\u001b[0m\u001b[1;32m    280\u001b[0m                              \u001b[0;34m' representation. Sequence of sequences are no'\u001b[0m\u001b[0;34m\u001b[0m\u001b[0;34m\u001b[0m\u001b[0m\n\u001b[1;32m    281\u001b[0m                              \u001b[0;34m' longer supported; use a binary array or sparse'\u001b[0m\u001b[0;34m\u001b[0m\u001b[0;34m\u001b[0m\u001b[0m\n",
            "\u001b[0;31mValueError\u001b[0m: You appear to be using a legacy multi-label data representation. Sequence of sequences are no longer supported; use a binary array or sparse matrix instead - the MultiLabelBinarizer transformer can convert to this format."
          ]
        }
      ]
    },
    {
      "cell_type": "markdown",
      "source": [
        "## 17. Qual possível erro e como contorná-lo?"
      ],
      "metadata": {
        "id": "MmoWQ7MKlJho"
      }
    },
    {
      "cell_type": "markdown",
      "source": [
        "O modelo pede o uso de um array binário ou matriz esparsa. Para isso é necessário fazer uma modificação nos dados de treino e de teste."
      ],
      "metadata": {
        "id": "kI2UIB-WLyLm"
      }
    },
    {
      "cell_type": "markdown",
      "source": [
        "# Realizando a primeira classificação"
      ],
      "metadata": {
        "id": "yLAdKWPxl76X"
      }
    },
    {
      "cell_type": "markdown",
      "source": [
        "## 18. Transforme em array tags_treino"
      ],
      "metadata": {
        "id": "grCS8BwWmAg3"
      }
    },
    {
      "cell_type": "code",
      "source": [
        "import numpy as np\n",
        "\n",
        "tags_treino_array = np.asarray(list(tags_treino))\n",
        "tags_teste_array = np.asarray(list(tags_teste))\n",
        "print(tags_treino_array)\n",
        "print(type(tags_treino_array))"
      ],
      "metadata": {
        "colab": {
          "base_uri": "https://localhost:8080/"
        },
        "id": "kB3tWh8xl976",
        "outputId": "2ec39038-5a86-48aa-eb55-06aec117c071"
      },
      "execution_count": null,
      "outputs": [
        {
          "output_type": "stream",
          "name": "stdout",
          "text": [
            "[[0 1 0 0]\n",
            " [0 1 0 0]\n",
            " [0 0 1 0]\n",
            " ...\n",
            " [0 1 1 0]\n",
            " [0 0 1 0]\n",
            " [0 1 1 0]]\n",
            "<class 'numpy.ndarray'>\n"
          ]
        }
      ]
    },
    {
      "cell_type": "markdown",
      "source": [
        "## 19. Treine o modelo novamente com a variável tags_treino_array"
      ],
      "metadata": {
        "id": "nEn0ZfAOwMjR"
      }
    },
    {
      "cell_type": "code",
      "source": [
        "regressao_logistica = LogisticRegression()\n",
        "classificador_onevsrest = OneVsRestClassifier(regressao_logistica)\n",
        "classificador_onevsrest.fit(perguntas_treino_tfidf, tags_treino_array)\n",
        "resultado_onevsrest = classificador_onevsrest.score(perguntas_teste_tfidf, tags_teste_array)\n",
        "print('Resultado {0:.2f}%'.format(resultado_onevsrest * 100))"
      ],
      "metadata": {
        "colab": {
          "base_uri": "https://localhost:8080/"
        },
        "id": "YgP01-qxmqgJ",
        "outputId": "fc1c63b5-667f-4f5f-b952-c7d74a8803e8"
      },
      "execution_count": null,
      "outputs": [
        {
          "output_type": "stream",
          "name": "stdout",
          "text": [
            "Resultado 41.68%\n"
          ]
        }
      ]
    },
    {
      "cell_type": "markdown",
      "source": [
        "# Exact Match"
      ],
      "metadata": {
        "id": "os24-jefxyyg"
      }
    },
    {
      "cell_type": "markdown",
      "source": [
        "## 20. Quantas combinações possíveis tem na coluna todas_tags?"
      ],
      "metadata": {
        "id": "afeax7qdyTXC"
      }
    },
    {
      "cell_type": "code",
      "source": [
        "perguntas['todas_tags'].unique().shape[0]"
      ],
      "metadata": {
        "colab": {
          "base_uri": "https://localhost:8080/"
        },
        "id": "9GMqaHGMwx4h",
        "outputId": "5cd6c0e0-8cee-4b9a-e4ca-66d8a050925c"
      },
      "execution_count": null,
      "outputs": [
        {
          "output_type": "execute_result",
          "data": {
            "text/plain": [
              "13"
            ]
          },
          "metadata": {},
          "execution_count": 20
        }
      ]
    },
    {
      "cell_type": "markdown",
      "source": [
        "# Hamming Loss"
      ],
      "metadata": {
        "id": "2RvPWS9KyvaH"
      }
    },
    {
      "cell_type": "markdown",
      "source": [
        "Diferente das métricas de acurácia, o hamming loss é melhor quanto mais próximo de zero. Se eu tenho, por exemplo, 0.9 de distância, isso é ruim. Entendendo isso, vamos colocar em prática na nossa previsão."
      ],
      "metadata": {
        "id": "r8eayDAtzCLY"
      }
    },
    {
      "cell_type": "markdown",
      "source": [
        "# Calculando o Hamming Loss"
      ],
      "metadata": {
        "id": "TJMDOzmtzp4d"
      }
    },
    {
      "cell_type": "markdown",
      "source": [
        "## 21. Importe o Hamming Loss."
      ],
      "metadata": {
        "id": "F3FZ5D6RztYt"
      }
    },
    {
      "cell_type": "code",
      "source": [
        "from sklearn.metrics import hamming_loss\n",
        "\n",
        "previsao_onevsrest = classificador_onevsrest.predict(perguntas_teste_tfidf)\n",
        "hamming_loss_onevsrest = hamming_loss(tags_teste_array, previsao_onevsrest)\n",
        "print('Hamming Loss {0:.2f}'.format(hamming_loss_onevsrest))"
      ],
      "metadata": {
        "colab": {
          "base_uri": "https://localhost:8080/"
        },
        "id": "eKfTtpFvyjfY",
        "outputId": "ea74352c-fd99-476d-c3e3-4eb71756a4a8"
      },
      "execution_count": null,
      "outputs": [
        {
          "output_type": "stream",
          "name": "stdout",
          "text": [
            "Hamming Loss 0.19\n"
          ]
        }
      ]
    },
    {
      "cell_type": "markdown",
      "source": [
        "## 22. Calcule a correlação das tags."
      ],
      "metadata": {
        "id": "cTLw9joT0v2I"
      }
    },
    {
      "cell_type": "code",
      "source": [
        "perguntas.corr()"
      ],
      "metadata": {
        "colab": {
          "base_uri": "https://localhost:8080/",
          "height": 175
        },
        "id": "thlLg9cw0bus",
        "outputId": "92fdb1f4-6699-41bd-931f-932a643a4177"
      },
      "execution_count": null,
      "outputs": [
        {
          "output_type": "execute_result",
          "data": {
            "text/plain": [
              "          node.js    jquery      html   angular\n",
              "node.js  1.000000 -0.321485 -0.273523 -0.101787\n",
              "jquery  -0.321485  1.000000 -0.253977 -0.366269\n",
              "html    -0.273523 -0.253977  1.000000 -0.286706\n",
              "angular -0.101787 -0.366269 -0.286706  1.000000"
            ],
            "text/html": [
              "\n",
              "  <div id=\"df-68acebbb-ee96-4b2c-a229-adb55debc32b\">\n",
              "    <div class=\"colab-df-container\">\n",
              "      <div>\n",
              "<style scoped>\n",
              "    .dataframe tbody tr th:only-of-type {\n",
              "        vertical-align: middle;\n",
              "    }\n",
              "\n",
              "    .dataframe tbody tr th {\n",
              "        vertical-align: top;\n",
              "    }\n",
              "\n",
              "    .dataframe thead th {\n",
              "        text-align: right;\n",
              "    }\n",
              "</style>\n",
              "<table border=\"1\" class=\"dataframe\">\n",
              "  <thead>\n",
              "    <tr style=\"text-align: right;\">\n",
              "      <th></th>\n",
              "      <th>node.js</th>\n",
              "      <th>jquery</th>\n",
              "      <th>html</th>\n",
              "      <th>angular</th>\n",
              "    </tr>\n",
              "  </thead>\n",
              "  <tbody>\n",
              "    <tr>\n",
              "      <th>node.js</th>\n",
              "      <td>1.000000</td>\n",
              "      <td>-0.321485</td>\n",
              "      <td>-0.273523</td>\n",
              "      <td>-0.101787</td>\n",
              "    </tr>\n",
              "    <tr>\n",
              "      <th>jquery</th>\n",
              "      <td>-0.321485</td>\n",
              "      <td>1.000000</td>\n",
              "      <td>-0.253977</td>\n",
              "      <td>-0.366269</td>\n",
              "    </tr>\n",
              "    <tr>\n",
              "      <th>html</th>\n",
              "      <td>-0.273523</td>\n",
              "      <td>-0.253977</td>\n",
              "      <td>1.000000</td>\n",
              "      <td>-0.286706</td>\n",
              "    </tr>\n",
              "    <tr>\n",
              "      <th>angular</th>\n",
              "      <td>-0.101787</td>\n",
              "      <td>-0.366269</td>\n",
              "      <td>-0.286706</td>\n",
              "      <td>1.000000</td>\n",
              "    </tr>\n",
              "  </tbody>\n",
              "</table>\n",
              "</div>\n",
              "      <button class=\"colab-df-convert\" onclick=\"convertToInteractive('df-68acebbb-ee96-4b2c-a229-adb55debc32b')\"\n",
              "              title=\"Convert this dataframe to an interactive table.\"\n",
              "              style=\"display:none;\">\n",
              "        \n",
              "  <svg xmlns=\"http://www.w3.org/2000/svg\" height=\"24px\"viewBox=\"0 0 24 24\"\n",
              "       width=\"24px\">\n",
              "    <path d=\"M0 0h24v24H0V0z\" fill=\"none\"/>\n",
              "    <path d=\"M18.56 5.44l.94 2.06.94-2.06 2.06-.94-2.06-.94-.94-2.06-.94 2.06-2.06.94zm-11 1L8.5 8.5l.94-2.06 2.06-.94-2.06-.94L8.5 2.5l-.94 2.06-2.06.94zm10 10l.94 2.06.94-2.06 2.06-.94-2.06-.94-.94-2.06-.94 2.06-2.06.94z\"/><path d=\"M17.41 7.96l-1.37-1.37c-.4-.4-.92-.59-1.43-.59-.52 0-1.04.2-1.43.59L10.3 9.45l-7.72 7.72c-.78.78-.78 2.05 0 2.83L4 21.41c.39.39.9.59 1.41.59.51 0 1.02-.2 1.41-.59l7.78-7.78 2.81-2.81c.8-.78.8-2.07 0-2.86zM5.41 20L4 18.59l7.72-7.72 1.47 1.35L5.41 20z\"/>\n",
              "  </svg>\n",
              "      </button>\n",
              "      \n",
              "  <style>\n",
              "    .colab-df-container {\n",
              "      display:flex;\n",
              "      flex-wrap:wrap;\n",
              "      gap: 12px;\n",
              "    }\n",
              "\n",
              "    .colab-df-convert {\n",
              "      background-color: #E8F0FE;\n",
              "      border: none;\n",
              "      border-radius: 50%;\n",
              "      cursor: pointer;\n",
              "      display: none;\n",
              "      fill: #1967D2;\n",
              "      height: 32px;\n",
              "      padding: 0 0 0 0;\n",
              "      width: 32px;\n",
              "    }\n",
              "\n",
              "    .colab-df-convert:hover {\n",
              "      background-color: #E2EBFA;\n",
              "      box-shadow: 0px 1px 2px rgba(60, 64, 67, 0.3), 0px 1px 3px 1px rgba(60, 64, 67, 0.15);\n",
              "      fill: #174EA6;\n",
              "    }\n",
              "\n",
              "    [theme=dark] .colab-df-convert {\n",
              "      background-color: #3B4455;\n",
              "      fill: #D2E3FC;\n",
              "    }\n",
              "\n",
              "    [theme=dark] .colab-df-convert:hover {\n",
              "      background-color: #434B5C;\n",
              "      box-shadow: 0px 1px 3px 1px rgba(0, 0, 0, 0.15);\n",
              "      filter: drop-shadow(0px 1px 2px rgba(0, 0, 0, 0.3));\n",
              "      fill: #FFFFFF;\n",
              "    }\n",
              "  </style>\n",
              "\n",
              "      <script>\n",
              "        const buttonEl =\n",
              "          document.querySelector('#df-68acebbb-ee96-4b2c-a229-adb55debc32b button.colab-df-convert');\n",
              "        buttonEl.style.display =\n",
              "          google.colab.kernel.accessAllowed ? 'block' : 'none';\n",
              "\n",
              "        async function convertToInteractive(key) {\n",
              "          const element = document.querySelector('#df-68acebbb-ee96-4b2c-a229-adb55debc32b');\n",
              "          const dataTable =\n",
              "            await google.colab.kernel.invokeFunction('convertToInteractive',\n",
              "                                                     [key], {});\n",
              "          if (!dataTable) return;\n",
              "\n",
              "          const docLinkHtml = 'Like what you see? Visit the ' +\n",
              "            '<a target=\"_blank\" href=https://colab.research.google.com/notebooks/data_table.ipynb>data table notebook</a>'\n",
              "            + ' to learn more about interactive tables.';\n",
              "          element.innerHTML = '';\n",
              "          dataTable['output_type'] = 'display_data';\n",
              "          await google.colab.output.renderOutput(dataTable, element);\n",
              "          const docLink = document.createElement('div');\n",
              "          docLink.innerHTML = docLinkHtml;\n",
              "          element.appendChild(docLink);\n",
              "        }\n",
              "      </script>\n",
              "    </div>\n",
              "  </div>\n",
              "  "
            ]
          },
          "metadata": {},
          "execution_count": 22
        }
      ]
    },
    {
      "cell_type": "markdown",
      "source": [
        "# Classificação em cadeia"
      ],
      "metadata": {
        "id": "3G5jFfUL1P4k"
      }
    },
    {
      "cell_type": "markdown",
      "source": [
        "# Scikitmultilearn"
      ],
      "metadata": {
        "id": "rVMx6NaX1pfs"
      }
    },
    {
      "cell_type": "markdown",
      "source": [
        "## 23. Importe o Classifier Chain e treine o modelo"
      ],
      "metadata": {
        "id": "F9VGwrkH12Tu"
      }
    },
    {
      "cell_type": "code",
      "source": [
        "!pip install scikit-multilearn"
      ],
      "metadata": {
        "colab": {
          "base_uri": "https://localhost:8080/"
        },
        "id": "9Z68zLZS00-p",
        "outputId": "f24dc9e4-49b0-4438-b332-ea9d0eead834"
      },
      "execution_count": null,
      "outputs": [
        {
          "output_type": "stream",
          "name": "stdout",
          "text": [
            "Looking in indexes: https://pypi.org/simple, https://us-python.pkg.dev/colab-wheels/public/simple/\n",
            "Requirement already satisfied: scikit-multilearn in /usr/local/lib/python3.7/dist-packages (0.2.0)\n"
          ]
        }
      ]
    },
    {
      "cell_type": "code",
      "source": [
        "from skmultilearn.problem_transform import ClassifierChain\n",
        "\n",
        "classificador_cadeia = ClassifierChain(regressao_logistica)\n",
        "classificador_cadeia.fit(perguntas_treino_tfidf, tags_treino_array)\n",
        "resultado_cadeia = classificador_cadeia.score(perguntas_teste_tfidf, tags_teste_array)\n",
        "\n",
        "previsao_cadeia = classificador_cadeia.predict(perguntas_teste_tfidf)\n",
        "hamming_loss_cadeia = hamming_loss(tags_teste_array, previsao_cadeia)\n",
        "\n",
        "print('Hamming Loss {0:.2f}'.format(hamming_loss_cadeia))\n",
        "print('Resultado {0:.2f}%'.format(resultado_cadeia * 100))"
      ],
      "metadata": {
        "colab": {
          "base_uri": "https://localhost:8080/"
        },
        "id": "PqxWJdZv2Gaj",
        "outputId": "32d6dd0e-574e-49ed-a894-3a8c18553058"
      },
      "execution_count": null,
      "outputs": [
        {
          "output_type": "stream",
          "name": "stdout",
          "text": [
            "Hamming Loss 0.21\n",
            "Resultado 49.82%\n"
          ]
        }
      ]
    },
    {
      "cell_type": "markdown",
      "source": [
        "# Analisando os classificadores"
      ],
      "metadata": {
        "id": "A8hi3ESbjaXg"
      }
    },
    {
      "cell_type": "markdown",
      "source": [
        "## 24. Como escolher o melhor modelo?"
      ],
      "metadata": {
        "id": "5jNTnhokjgJ4"
      }
    },
    {
      "cell_type": "markdown",
      "source": [
        "Depende do contexto do problema. No nosso projeto o hamming loss foi uma métrica mais importante, portanto o modelo de Relevância binária faz mais sentido."
      ],
      "metadata": {
        "id": "VYIRQf6lMgda"
      }
    },
    {
      "cell_type": "markdown",
      "source": [
        "## 25. Quais as duas abordagens que podemos utilizar para classificação multilabel?"
      ],
      "metadata": {
        "id": "9OY6peQtj_Fp"
      }
    },
    {
      "cell_type": "markdown",
      "source": [
        "1. Transformação dos dados para classificação binária\n",
        "2. Algoritmo adaptativo"
      ],
      "metadata": {
        "id": "9DKPtb8HkF_D"
      }
    },
    {
      "cell_type": "markdown",
      "source": [
        "# Para saber mais: relevância binária com skmultilearn"
      ],
      "metadata": {
        "id": "RHrDe4bdkg8W"
      }
    },
    {
      "cell_type": "markdown",
      "source": [
        "## 26. Como utilizar classificação de relevância binária com o skmultilearn?"
      ],
      "metadata": {
        "id": "6hgzrFatknG2"
      }
    },
    {
      "cell_type": "code",
      "source": [
        "from skmultilearn.problem_transform import BinaryRelevance\n",
        "\n",
        "classificador_br = BinaryRelevance(regressao_logistica)\n",
        "classificador_br.fit(perguntas_treino_tfidf, tags_treino_array)\n",
        "resultado_br = classificador_br.score(perguntas_teste_tfidf, tags_teste_array)\n",
        "\n",
        "previsao_br = classificador_br.predict(perguntas_teste_tfidf)\n",
        "hamming_loss_br = hamming_loss(tags_teste_array, previsao_br)\n",
        "\n",
        "print('Hamming Loss {0:.2f}'.format(hamming_loss_br))\n",
        "print('Resultado {0:.2f}%'.format(resultado_br * 100))"
      ],
      "metadata": {
        "colab": {
          "base_uri": "https://localhost:8080/"
        },
        "id": "nJhITM8OkFYf",
        "outputId": "030713de-73db-4e21-aa3b-ad0f14a88ee7"
      },
      "execution_count": null,
      "outputs": [
        {
          "output_type": "stream",
          "name": "stdout",
          "text": [
            "Hamming Loss 0.19\n",
            "Resultado 41.68%\n"
          ]
        }
      ]
    },
    {
      "cell_type": "markdown",
      "source": [
        "## Entendendo o ML-KNN"
      ],
      "metadata": {
        "id": "1v6EzWkPllEI"
      }
    },
    {
      "cell_type": "markdown",
      "source": [
        "## 27. O que é KNN e como funciona?"
      ],
      "metadata": {
        "id": "EDcdS93Hl0Qo"
      }
    },
    {
      "cell_type": "markdown",
      "source": [
        "KNN (K-Nearest Neighbor) é um algoritmo que classifica uma variável de acordo com a sua proximidade com outras variáveis treinadas previamente. "
      ],
      "metadata": {
        "id": "G4pLfj1Omfmw"
      }
    },
    {
      "cell_type": "markdown",
      "source": [
        "## 28. O que é o ML-KNN e como funciona?"
      ],
      "metadata": {
        "id": "eryc8VkLmG3W"
      }
    },
    {
      "cell_type": "markdown",
      "source": [
        "O ML-KNN é um complemento do algoritmo KNN que o complementa, através de calculos por \"trás dos panos\", confirmando a decisão tomada pelo KNN."
      ],
      "metadata": {
        "id": "Qf5n959pmx8o"
      }
    },
    {
      "cell_type": "markdown",
      "source": [
        "# Utilizando o ML-KNN"
      ],
      "metadata": {
        "id": "nfj0pEpGnXT4"
      }
    },
    {
      "cell_type": "code",
      "source": [
        "# hamming_loss_mlknn = hamming_loss(tags_teste_array, previsao_mlknn)"
      ],
      "metadata": {
        "id": "5RB1S_cimLGB"
      },
      "execution_count": null,
      "outputs": []
    },
    {
      "cell_type": "markdown",
      "source": [
        "## 29. Como importar o ML-KNN?"
      ],
      "metadata": {
        "id": "qoR2XkuInf-v"
      }
    },
    {
      "cell_type": "code",
      "source": [
        "!pip install scikit-learn==0.24.1\n",
        "\n",
        "from skmultilearn.adapt import MLkNN\n",
        "\n",
        "classificador_mlknn = MLkNN()\n",
        "classificador_mlknn.fit(perguntas_treino_tfidf, tags_treino_array)\n",
        "resultado_mlknn = classificador_mlknn.score(perguntas_teste_tfidf, tags_teste_array)\n",
        "\n",
        "previsao_mlknn = classificador_mlknn.predict(perguntas_teste_tfidf)\n",
        "hamming_loss_mlknn = hamming_loss(tags_teste_array, previsao_mlknn)\n",
        "\n",
        "print('Hamming Loss {0:.2f}'.format(hamming_loss_mlknn))\n",
        "print('Resultado {0:.2f}%'.format(resultado_mlknn * 100))"
      ],
      "metadata": {
        "colab": {
          "base_uri": "https://localhost:8080/"
        },
        "id": "f7Hv04eqnjJl",
        "outputId": "6d1592da-d696-439b-f93b-95f828c7e47b"
      },
      "execution_count": null,
      "outputs": [
        {
          "output_type": "stream",
          "name": "stdout",
          "text": [
            "Looking in indexes: https://pypi.org/simple, https://us-python.pkg.dev/colab-wheels/public/simple/\n",
            "Requirement already satisfied: scikit-learn==0.24.1 in /usr/local/lib/python3.7/dist-packages (0.24.1)\n",
            "Requirement already satisfied: joblib>=0.11 in /usr/local/lib/python3.7/dist-packages (from scikit-learn==0.24.1) (1.1.0)\n",
            "Requirement already satisfied: threadpoolctl>=2.0.0 in /usr/local/lib/python3.7/dist-packages (from scikit-learn==0.24.1) (3.1.0)\n",
            "Requirement already satisfied: scipy>=0.19.1 in /usr/local/lib/python3.7/dist-packages (from scikit-learn==0.24.1) (1.4.1)\n",
            "Requirement already satisfied: numpy>=1.13.3 in /usr/local/lib/python3.7/dist-packages (from scikit-learn==0.24.1) (1.21.6)\n"
          ]
        },
        {
          "output_type": "stream",
          "name": "stderr",
          "text": [
            "/usr/local/lib/python3.7/dist-packages/sklearn/utils/validation.py:72: FutureWarning: Pass n_neighbors=10 as keyword args. From version 1.0 (renaming of 0.25) passing these as positional arguments will result in an error\n",
            "  \"will result in an error\", FutureWarning)\n"
          ]
        },
        {
          "output_type": "stream",
          "name": "stdout",
          "text": [
            "Hamming Loss 0.25\n",
            "Resultado 32.53%\n"
          ]
        }
      ]
    },
    {
      "cell_type": "markdown",
      "source": [
        "## 30. Compare os algoritmos."
      ],
      "metadata": {
        "id": "MLabY51Fpd_l"
      }
    },
    {
      "cell_type": "code",
      "source": [
        "print('Hamming Loss MLKNN {0:.2f}'.format(hamming_loss_mlknn))\n",
        "print('Resultado MLKNN {0:.2f}%'.format(resultado_mlknn * 100))"
      ],
      "metadata": {
        "colab": {
          "base_uri": "https://localhost:8080/"
        },
        "id": "aHo4EBgNoQn5",
        "outputId": "2e000c9b-9694-4d10-d708-1eccd7bca7f4"
      },
      "execution_count": null,
      "outputs": [
        {
          "output_type": "stream",
          "name": "stdout",
          "text": [
            "Hamming Loss MLKNN 0.25\n",
            "Resultado MLKNN 32.53%\n"
          ]
        }
      ]
    },
    {
      "cell_type": "code",
      "source": [
        "print('Hamming Loss cadeia {0:.2f}'.format(hamming_loss_cadeia))\n",
        "print('Resultado cadeia {0:.2f}%'.format(resultado_cadeia * 100))"
      ],
      "metadata": {
        "colab": {
          "base_uri": "https://localhost:8080/"
        },
        "id": "5icmM5UipmPj",
        "outputId": "539899f9-9317-4cf7-e4ae-2d17c5be5016"
      },
      "execution_count": null,
      "outputs": [
        {
          "output_type": "stream",
          "name": "stdout",
          "text": [
            "Hamming Loss cadeia 0.21\n",
            "Resultado cadeia 49.82%\n"
          ]
        }
      ]
    },
    {
      "cell_type": "code",
      "source": [
        "print('Hamming Loss br {0:.2f}'.format(hamming_loss_br))\n",
        "print('Resultado br {0:.2f}%'.format(resultado_br * 100))"
      ],
      "metadata": {
        "colab": {
          "base_uri": "https://localhost:8080/"
        },
        "id": "v85dr-frpmXD",
        "outputId": "cd0ce43a-b188-411d-94f2-0f66fb315cb5"
      },
      "execution_count": null,
      "outputs": [
        {
          "output_type": "stream",
          "name": "stdout",
          "text": [
            "Hamming Loss br 0.19\n",
            "Resultado br 41.68%\n"
          ]
        }
      ]
    },
    {
      "cell_type": "markdown",
      "source": [
        "# Verificando as classificações"
      ],
      "metadata": {
        "id": "YaPrrI4dp8XQ"
      }
    },
    {
      "cell_type": "markdown",
      "source": [
        "## 31. Crie um dataframe para as classificações"
      ],
      "metadata": {
        "id": "mv9k45tbp_0s"
      }
    },
    {
      "cell_type": "code",
      "source": [
        "resultados_classificacao = pd.DataFrame()\n",
        "resultados_classificacao['perguntas'] = perguntas_teste.values\n",
        "resultados_classificacao['tags_real'] = list(tags_teste)\n",
        "resultados_classificacao['BR'] = list(previsao_br.toarray())\n",
        "resultados_classificacao['cadeia'] = list(previsao_cadeia.toarray())\n",
        "resultados_classificacao['mlknn'] = list(previsao_mlknn.toarray())\n",
        "resultados_classificacao"
      ],
      "metadata": {
        "colab": {
          "base_uri": "https://localhost:8080/",
          "height": 641
        },
        "id": "Fk-Ij33jpwu6",
        "outputId": "431473d0-c03f-48bc-ebfc-de7749bd87ad"
      },
      "execution_count": null,
      "outputs": [
        {
          "output_type": "execute_result",
          "data": {
            "text/plain": [
              "                                              perguntas     tags_real  \\\n",
              "0     estou com conflito entre o  CODE   e os  CODE ...  (0, 1, 0, 0)   \n",
              "1     Estou fazendo um site que eu sou obrigado a us...  (0, 0, 1, 0)   \n",
              "2     Recentemente fiz um refactor do meu código par...  (1, 0, 0, 0)   \n",
              "3     Eu tenho esse código em CODE  que passo valore...  (0, 1, 1, 0)   \n",
              "4     Olá, em minha função tem o evento CODE  que de...  (0, 1, 1, 0)   \n",
              "...                                                 ...           ...   \n",
              "1077  Estou a desenvolver um website em jQuery. E at...  (0, 1, 0, 0)   \n",
              "1078  Estou usando este plugin - jquery autocomplete...  (0, 1, 0, 0)   \n",
              "1079  Tenho o seguinte jQuery:  CODE   Nisto, quanti...  (0, 1, 0, 0)   \n",
              "1080  Estou usando o SimpleModal Contact Form de Eri...  (0, 1, 0, 0)   \n",
              "1081  Estou tento problemas com o webpack, gostaria ...  (0, 0, 0, 1)   \n",
              "\n",
              "                BR                cadeia         mlknn  \n",
              "0     [0, 1, 0, 0]  [0.0, 1.0, 0.0, 0.0]  [0, 0, 0, 0]  \n",
              "1     [0, 0, 1, 0]  [0.0, 0.0, 1.0, 0.0]  [0, 1, 1, 0]  \n",
              "2     [1, 0, 0, 0]  [1.0, 0.0, 0.0, 0.0]  [1, 0, 0, 0]  \n",
              "3     [0, 1, 0, 0]  [0.0, 1.0, 0.0, 0.0]  [0, 1, 1, 0]  \n",
              "4     [0, 1, 0, 0]  [0.0, 1.0, 0.0, 0.0]  [0, 1, 1, 0]  \n",
              "...            ...                   ...           ...  \n",
              "1077  [0, 1, 1, 0]  [0.0, 1.0, 1.0, 0.0]  [0, 0, 1, 0]  \n",
              "1078  [0, 1, 0, 0]  [0.0, 1.0, 0.0, 0.0]  [0, 1, 0, 0]  \n",
              "1079  [0, 1, 0, 0]  [0.0, 1.0, 0.0, 0.0]  [0, 1, 0, 0]  \n",
              "1080  [0, 1, 0, 0]  [0.0, 1.0, 0.0, 0.0]  [0, 1, 0, 0]  \n",
              "1081  [0, 0, 0, 0]  [0.0, 0.0, 1.0, 0.0]  [0, 0, 1, 0]  \n",
              "\n",
              "[1082 rows x 5 columns]"
            ],
            "text/html": [
              "\n",
              "  <div id=\"df-254b94d2-cb57-4f1a-ab6b-5645c8fd4f21\">\n",
              "    <div class=\"colab-df-container\">\n",
              "      <div>\n",
              "<style scoped>\n",
              "    .dataframe tbody tr th:only-of-type {\n",
              "        vertical-align: middle;\n",
              "    }\n",
              "\n",
              "    .dataframe tbody tr th {\n",
              "        vertical-align: top;\n",
              "    }\n",
              "\n",
              "    .dataframe thead th {\n",
              "        text-align: right;\n",
              "    }\n",
              "</style>\n",
              "<table border=\"1\" class=\"dataframe\">\n",
              "  <thead>\n",
              "    <tr style=\"text-align: right;\">\n",
              "      <th></th>\n",
              "      <th>perguntas</th>\n",
              "      <th>tags_real</th>\n",
              "      <th>BR</th>\n",
              "      <th>cadeia</th>\n",
              "      <th>mlknn</th>\n",
              "    </tr>\n",
              "  </thead>\n",
              "  <tbody>\n",
              "    <tr>\n",
              "      <th>0</th>\n",
              "      <td>estou com conflito entre o  CODE   e os  CODE ...</td>\n",
              "      <td>(0, 1, 0, 0)</td>\n",
              "      <td>[0, 1, 0, 0]</td>\n",
              "      <td>[0.0, 1.0, 0.0, 0.0]</td>\n",
              "      <td>[0, 0, 0, 0]</td>\n",
              "    </tr>\n",
              "    <tr>\n",
              "      <th>1</th>\n",
              "      <td>Estou fazendo um site que eu sou obrigado a us...</td>\n",
              "      <td>(0, 0, 1, 0)</td>\n",
              "      <td>[0, 0, 1, 0]</td>\n",
              "      <td>[0.0, 0.0, 1.0, 0.0]</td>\n",
              "      <td>[0, 1, 1, 0]</td>\n",
              "    </tr>\n",
              "    <tr>\n",
              "      <th>2</th>\n",
              "      <td>Recentemente fiz um refactor do meu código par...</td>\n",
              "      <td>(1, 0, 0, 0)</td>\n",
              "      <td>[1, 0, 0, 0]</td>\n",
              "      <td>[1.0, 0.0, 0.0, 0.0]</td>\n",
              "      <td>[1, 0, 0, 0]</td>\n",
              "    </tr>\n",
              "    <tr>\n",
              "      <th>3</th>\n",
              "      <td>Eu tenho esse código em CODE  que passo valore...</td>\n",
              "      <td>(0, 1, 1, 0)</td>\n",
              "      <td>[0, 1, 0, 0]</td>\n",
              "      <td>[0.0, 1.0, 0.0, 0.0]</td>\n",
              "      <td>[0, 1, 1, 0]</td>\n",
              "    </tr>\n",
              "    <tr>\n",
              "      <th>4</th>\n",
              "      <td>Olá, em minha função tem o evento CODE  que de...</td>\n",
              "      <td>(0, 1, 1, 0)</td>\n",
              "      <td>[0, 1, 0, 0]</td>\n",
              "      <td>[0.0, 1.0, 0.0, 0.0]</td>\n",
              "      <td>[0, 1, 1, 0]</td>\n",
              "    </tr>\n",
              "    <tr>\n",
              "      <th>...</th>\n",
              "      <td>...</td>\n",
              "      <td>...</td>\n",
              "      <td>...</td>\n",
              "      <td>...</td>\n",
              "      <td>...</td>\n",
              "    </tr>\n",
              "    <tr>\n",
              "      <th>1077</th>\n",
              "      <td>Estou a desenvolver um website em jQuery. E at...</td>\n",
              "      <td>(0, 1, 0, 0)</td>\n",
              "      <td>[0, 1, 1, 0]</td>\n",
              "      <td>[0.0, 1.0, 1.0, 0.0]</td>\n",
              "      <td>[0, 0, 1, 0]</td>\n",
              "    </tr>\n",
              "    <tr>\n",
              "      <th>1078</th>\n",
              "      <td>Estou usando este plugin - jquery autocomplete...</td>\n",
              "      <td>(0, 1, 0, 0)</td>\n",
              "      <td>[0, 1, 0, 0]</td>\n",
              "      <td>[0.0, 1.0, 0.0, 0.0]</td>\n",
              "      <td>[0, 1, 0, 0]</td>\n",
              "    </tr>\n",
              "    <tr>\n",
              "      <th>1079</th>\n",
              "      <td>Tenho o seguinte jQuery:  CODE   Nisto, quanti...</td>\n",
              "      <td>(0, 1, 0, 0)</td>\n",
              "      <td>[0, 1, 0, 0]</td>\n",
              "      <td>[0.0, 1.0, 0.0, 0.0]</td>\n",
              "      <td>[0, 1, 0, 0]</td>\n",
              "    </tr>\n",
              "    <tr>\n",
              "      <th>1080</th>\n",
              "      <td>Estou usando o SimpleModal Contact Form de Eri...</td>\n",
              "      <td>(0, 1, 0, 0)</td>\n",
              "      <td>[0, 1, 0, 0]</td>\n",
              "      <td>[0.0, 1.0, 0.0, 0.0]</td>\n",
              "      <td>[0, 1, 0, 0]</td>\n",
              "    </tr>\n",
              "    <tr>\n",
              "      <th>1081</th>\n",
              "      <td>Estou tento problemas com o webpack, gostaria ...</td>\n",
              "      <td>(0, 0, 0, 1)</td>\n",
              "      <td>[0, 0, 0, 0]</td>\n",
              "      <td>[0.0, 0.0, 1.0, 0.0]</td>\n",
              "      <td>[0, 0, 1, 0]</td>\n",
              "    </tr>\n",
              "  </tbody>\n",
              "</table>\n",
              "<p>1082 rows × 5 columns</p>\n",
              "</div>\n",
              "      <button class=\"colab-df-convert\" onclick=\"convertToInteractive('df-254b94d2-cb57-4f1a-ab6b-5645c8fd4f21')\"\n",
              "              title=\"Convert this dataframe to an interactive table.\"\n",
              "              style=\"display:none;\">\n",
              "        \n",
              "  <svg xmlns=\"http://www.w3.org/2000/svg\" height=\"24px\"viewBox=\"0 0 24 24\"\n",
              "       width=\"24px\">\n",
              "    <path d=\"M0 0h24v24H0V0z\" fill=\"none\"/>\n",
              "    <path d=\"M18.56 5.44l.94 2.06.94-2.06 2.06-.94-2.06-.94-.94-2.06-.94 2.06-2.06.94zm-11 1L8.5 8.5l.94-2.06 2.06-.94-2.06-.94L8.5 2.5l-.94 2.06-2.06.94zm10 10l.94 2.06.94-2.06 2.06-.94-2.06-.94-.94-2.06-.94 2.06-2.06.94z\"/><path d=\"M17.41 7.96l-1.37-1.37c-.4-.4-.92-.59-1.43-.59-.52 0-1.04.2-1.43.59L10.3 9.45l-7.72 7.72c-.78.78-.78 2.05 0 2.83L4 21.41c.39.39.9.59 1.41.59.51 0 1.02-.2 1.41-.59l7.78-7.78 2.81-2.81c.8-.78.8-2.07 0-2.86zM5.41 20L4 18.59l7.72-7.72 1.47 1.35L5.41 20z\"/>\n",
              "  </svg>\n",
              "      </button>\n",
              "      \n",
              "  <style>\n",
              "    .colab-df-container {\n",
              "      display:flex;\n",
              "      flex-wrap:wrap;\n",
              "      gap: 12px;\n",
              "    }\n",
              "\n",
              "    .colab-df-convert {\n",
              "      background-color: #E8F0FE;\n",
              "      border: none;\n",
              "      border-radius: 50%;\n",
              "      cursor: pointer;\n",
              "      display: none;\n",
              "      fill: #1967D2;\n",
              "      height: 32px;\n",
              "      padding: 0 0 0 0;\n",
              "      width: 32px;\n",
              "    }\n",
              "\n",
              "    .colab-df-convert:hover {\n",
              "      background-color: #E2EBFA;\n",
              "      box-shadow: 0px 1px 2px rgba(60, 64, 67, 0.3), 0px 1px 3px 1px rgba(60, 64, 67, 0.15);\n",
              "      fill: #174EA6;\n",
              "    }\n",
              "\n",
              "    [theme=dark] .colab-df-convert {\n",
              "      background-color: #3B4455;\n",
              "      fill: #D2E3FC;\n",
              "    }\n",
              "\n",
              "    [theme=dark] .colab-df-convert:hover {\n",
              "      background-color: #434B5C;\n",
              "      box-shadow: 0px 1px 3px 1px rgba(0, 0, 0, 0.15);\n",
              "      filter: drop-shadow(0px 1px 2px rgba(0, 0, 0, 0.3));\n",
              "      fill: #FFFFFF;\n",
              "    }\n",
              "  </style>\n",
              "\n",
              "      <script>\n",
              "        const buttonEl =\n",
              "          document.querySelector('#df-254b94d2-cb57-4f1a-ab6b-5645c8fd4f21 button.colab-df-convert');\n",
              "        buttonEl.style.display =\n",
              "          google.colab.kernel.accessAllowed ? 'block' : 'none';\n",
              "\n",
              "        async function convertToInteractive(key) {\n",
              "          const element = document.querySelector('#df-254b94d2-cb57-4f1a-ab6b-5645c8fd4f21');\n",
              "          const dataTable =\n",
              "            await google.colab.kernel.invokeFunction('convertToInteractive',\n",
              "                                                     [key], {});\n",
              "          if (!dataTable) return;\n",
              "\n",
              "          const docLinkHtml = 'Like what you see? Visit the ' +\n",
              "            '<a target=\"_blank\" href=https://colab.research.google.com/notebooks/data_table.ipynb>data table notebook</a>'\n",
              "            + ' to learn more about interactive tables.';\n",
              "          element.innerHTML = '';\n",
              "          dataTable['output_type'] = 'display_data';\n",
              "          await google.colab.output.renderOutput(dataTable, element);\n",
              "          const docLink = document.createElement('div');\n",
              "          docLink.innerHTML = docLinkHtml;\n",
              "          element.appendChild(docLink);\n",
              "        }\n",
              "      </script>\n",
              "    </div>\n",
              "  </div>\n",
              "  "
            ]
          },
          "metadata": {},
          "execution_count": 36
        }
      ]
    },
    {
      "cell_type": "markdown",
      "source": [
        "## 32. Visualize as linhas através do iloc."
      ],
      "metadata": {
        "id": "df8uztHvrHJ4"
      }
    },
    {
      "cell_type": "code",
      "source": [
        "resultados_classificacao.iloc[1]"
      ],
      "metadata": {
        "colab": {
          "base_uri": "https://localhost:8080/"
        },
        "id": "EO04EMH4qSN_",
        "outputId": "f42709ce-58b9-4f76-9900-118cecd7bf85"
      },
      "execution_count": null,
      "outputs": [
        {
          "output_type": "execute_result",
          "data": {
            "text/plain": [
              "perguntas    Estou fazendo um site que eu sou obrigado a us...\n",
              "tags_real                                         (0, 0, 1, 0)\n",
              "BR                                                [0, 0, 1, 0]\n",
              "cadeia                                    [0.0, 0.0, 1.0, 0.0]\n",
              "mlknn                                             [0, 1, 1, 0]\n",
              "Name: 1, dtype: object"
            ]
          },
          "metadata": {},
          "execution_count": 37
        }
      ]
    },
    {
      "cell_type": "code",
      "source": [
        "resultados_classificacao['perguntas'][1]"
      ],
      "metadata": {
        "colab": {
          "base_uri": "https://localhost:8080/",
          "height": 174
        },
        "id": "fYt0_GfrrPPI",
        "outputId": "358d65ab-19c8-418a-f519-320cd820407d"
      },
      "execution_count": null,
      "outputs": [
        {
          "output_type": "execute_result",
          "data": {
            "text/plain": [
              "'Estou fazendo um site que eu sou obrigado a usar HTML, CSS e JavaScript no máximo. Só que muitas coisas que eu preciso do PhP eu não posso usar. Sendo assim eu estive pesquisando por sinonimo de CODE  e encontrei o seguinte, que ajudou em partes:  CODE   Tá, mas qual é o problema? Ele cria uma barra de rolagem do lado. Eu sei como remover com CSS, mas o texto que foi inserido rola só dentro da área da CODE  e eu queria que fizesse como se o texto inserido fizesse parte da página, como funciona no CODE  do PhP. A questão é, como fazer a mecânica do JavaScript nesse caso ficar igual ao do PhP?  Print para exemplificar: https://imgur.com/a/V9AGLgB '"
            ],
            "application/vnd.google.colaboratory.intrinsic+json": {
              "type": "string"
            }
          },
          "metadata": {},
          "execution_count": 39
        }
      ]
    },
    {
      "cell_type": "markdown",
      "source": [
        "# Conclusão"
      ],
      "metadata": {
        "id": "Z_NDGKctrznD"
      }
    },
    {
      "cell_type": "markdown",
      "source": [
        "Construímos um modelo de classifciação multilabel para as tags do Stack Overflow. Fizemos a importação dos dados, entendemos as diferenças entre classificação binária, multiclasse e multilabel. Depois separamos nossos dados em treino e teste. Fizemos a vetorização dos textos. Entendemos qual melhor modelo a ser escolhido analisando as métricas de acurácia e hamming loss e optamos pelo modelo de Relevância Binária.\n"
      ],
      "metadata": {
        "id": "iOUn7gP4r2pY"
      }
    }
  ]
}